{
 "cells": [
  {
   "cell_type": "markdown",
   "id": "e7f9ea68",
   "metadata": {},
   "source": [
    "# Exercice 3 : Classification"
   ]
  },
  {
   "cell_type": "markdown",
   "id": "6e594048",
   "metadata": {},
   "source": [
    "## Import librairies"
   ]
  },
  {
   "cell_type": "code",
   "execution_count": 1,
   "id": "fe5d858c",
   "metadata": {},
   "outputs": [],
   "source": [
    "import os\n",
    "import numpy as np \n",
    "import pandas as pd \n",
    "import matplotlib.pyplot as plt\n",
    "import seaborn as sns \n",
    "\n",
    "from sklearn.preprocessing import MinMaxScaler\n",
    "from sklearn.cluster import KMeans\n",
    "\n",
    "%matplotlib inline"
   ]
  },
  {
   "cell_type": "code",
   "execution_count": 2,
   "id": "1bb34920",
   "metadata": {
    "scrolled": true
   },
   "outputs": [
    {
     "name": "stdout",
     "output_type": "stream",
     "text": [
      "C:\\Users\\maeva\\OneDrive\\M1\\projet_ML\\notebooks\\exo3\n"
     ]
    },
    {
     "data": {
      "text/plain": [
       "'C:\\\\Users\\\\maeva\\\\OneDrive\\\\M1\\\\projet_ML\\\\notebooks'"
      ]
     },
     "execution_count": 2,
     "metadata": {},
     "output_type": "execute_result"
    }
   ],
   "source": [
    "print(os.getcwd())\n",
    "current_path = os.getcwd()\n",
    "path = os.path.abspath(os.path.join(current_path, '..'))\n",
    "path"
   ]
  },
  {
   "cell_type": "code",
   "execution_count": 3,
   "id": "c7a17e6a",
   "metadata": {},
   "outputs": [
    {
     "data": {
      "text/plain": [
       "'C:\\\\Users\\\\maeva\\\\OneDrive\\\\M1\\\\projet_ML\\\\notebooks'"
      ]
     },
     "execution_count": 3,
     "metadata": {},
     "output_type": "execute_result"
    }
   ],
   "source": [
    "path1 = os.path.abspath(os.path.join(current_path, '..'))\n",
    "path1"
   ]
  },
  {
   "cell_type": "code",
   "execution_count": 4,
   "id": "ed11b598",
   "metadata": {},
   "outputs": [
    {
     "name": "stdout",
     "output_type": "stream",
     "text": [
      "C:\\Users\\maeva\\OneDrive\\M1\\projet_ML\\notebooks\\data\n"
     ]
    }
   ],
   "source": [
    "path_data = os.path.join(path, 'data')\n",
    "os.chdir(path_data)\n",
    "print(os.getcwd())"
   ]
  },
  {
   "cell_type": "code",
   "execution_count": 5,
   "id": "cfd23f32",
   "metadata": {
    "scrolled": true
   },
   "outputs": [
    {
     "data": {
      "text/plain": [
       "['chiens.csv', 'simu.txt', 'voitures.csv', 'xsimutest.txt', '__pycache__']"
      ]
     },
     "execution_count": 5,
     "metadata": {},
     "output_type": "execute_result"
    }
   ],
   "source": [
    "os.listdir()"
   ]
  },
  {
   "cell_type": "markdown",
   "id": "22757aa1",
   "metadata": {},
   "source": [
    "## Load Dataset"
   ]
  },
  {
   "cell_type": "code",
   "execution_count": 7,
   "id": "b20460e1",
   "metadata": {},
   "outputs": [
    {
     "data": {
      "text/html": [
       "<div>\n",
       "<style scoped>\n",
       "    .dataframe tbody tr th:only-of-type {\n",
       "        vertical-align: middle;\n",
       "    }\n",
       "\n",
       "    .dataframe tbody tr th {\n",
       "        vertical-align: top;\n",
       "    }\n",
       "\n",
       "    .dataframe thead th {\n",
       "        text-align: right;\n",
       "    }\n",
       "</style>\n",
       "<table border=\"1\" class=\"dataframe\">\n",
       "  <thead>\n",
       "    <tr style=\"text-align: right;\">\n",
       "      <th></th>\n",
       "      <th>Modele</th>\n",
       "      <th>CYL</th>\n",
       "      <th>PUIS</th>\n",
       "      <th>LON</th>\n",
       "      <th>LAR</th>\n",
       "      <th>POIDS</th>\n",
       "      <th>VITESSE</th>\n",
       "      <th>ACCEL</th>\n",
       "      <th>CO2</th>\n",
       "    </tr>\n",
       "  </thead>\n",
       "  <tbody>\n",
       "    <tr>\n",
       "      <th>0</th>\n",
       "      <td>ALPHAMITO</td>\n",
       "      <td>875</td>\n",
       "      <td>105</td>\n",
       "      <td>406</td>\n",
       "      <td>172</td>\n",
       "      <td>1130</td>\n",
       "      <td>184</td>\n",
       "      <td>11.4</td>\n",
       "      <td>98</td>\n",
       "    </tr>\n",
       "    <tr>\n",
       "      <th>1</th>\n",
       "      <td>AUDIA1</td>\n",
       "      <td>999</td>\n",
       "      <td>95</td>\n",
       "      <td>397</td>\n",
       "      <td>174</td>\n",
       "      <td>1065</td>\n",
       "      <td>186</td>\n",
       "      <td>10.9</td>\n",
       "      <td>103</td>\n",
       "    </tr>\n",
       "    <tr>\n",
       "      <th>2</th>\n",
       "      <td>CITROENC4</td>\n",
       "      <td>1199</td>\n",
       "      <td>130</td>\n",
       "      <td>442</td>\n",
       "      <td>182</td>\n",
       "      <td>1280</td>\n",
       "      <td>196</td>\n",
       "      <td>10.1</td>\n",
       "      <td>115</td>\n",
       "    </tr>\n",
       "    <tr>\n",
       "      <th>3</th>\n",
       "      <td>JAGUARF</td>\n",
       "      <td>2995</td>\n",
       "      <td>340</td>\n",
       "      <td>447</td>\n",
       "      <td>192</td>\n",
       "      <td>1587</td>\n",
       "      <td>260</td>\n",
       "      <td>5.7</td>\n",
       "      <td>234</td>\n",
       "    </tr>\n",
       "    <tr>\n",
       "      <th>4</th>\n",
       "      <td>PEUGEOTRCZ</td>\n",
       "      <td>1997</td>\n",
       "      <td>160</td>\n",
       "      <td>428</td>\n",
       "      <td>184</td>\n",
       "      <td>1370</td>\n",
       "      <td>220</td>\n",
       "      <td>8.2</td>\n",
       "      <td>130</td>\n",
       "    </tr>\n",
       "  </tbody>\n",
       "</table>\n",
       "</div>"
      ],
      "text/plain": [
       "       Modele   CYL  PUIS  LON  LAR  POIDS  VITESSE  ACCEL  CO2\n",
       "0   ALPHAMITO   875   105  406  172   1130      184   11.4   98\n",
       "1      AUDIA1   999    95  397  174   1065      186   10.9  103\n",
       "2   CITROENC4  1199   130  442  182   1280      196   10.1  115\n",
       "3     JAGUARF  2995   340  447  192   1587      260    5.7  234\n",
       "4  PEUGEOTRCZ  1997   160  428  184   1370      220    8.2  130"
      ]
     },
     "execution_count": 7,
     "metadata": {},
     "output_type": "execute_result"
    }
   ],
   "source": [
    "df_voitures = pd.read_csv(\"voitures.csv\")\n",
    "df_voitures.head()"
   ]
  },
  {
   "cell_type": "code",
   "execution_count": 9,
   "id": "7f4ae0e7",
   "metadata": {
    "scrolled": true
   },
   "outputs": [
    {
     "data": {
      "text/html": [
       "<div>\n",
       "<style scoped>\n",
       "    .dataframe tbody tr th:only-of-type {\n",
       "        vertical-align: middle;\n",
       "    }\n",
       "\n",
       "    .dataframe tbody tr th {\n",
       "        vertical-align: top;\n",
       "    }\n",
       "\n",
       "    .dataframe thead th {\n",
       "        text-align: right;\n",
       "    }\n",
       "</style>\n",
       "<table border=\"1\" class=\"dataframe\">\n",
       "  <thead>\n",
       "    <tr style=\"text-align: right;\">\n",
       "      <th></th>\n",
       "      <th>Modele</th>\n",
       "      <th>CYL</th>\n",
       "      <th>PUIS</th>\n",
       "      <th>LON</th>\n",
       "      <th>LAR</th>\n",
       "      <th>POIDS</th>\n",
       "      <th>VITESSE</th>\n",
       "      <th>ACCEL</th>\n",
       "      <th>CO2</th>\n",
       "    </tr>\n",
       "  </thead>\n",
       "  <tbody>\n",
       "    <tr>\n",
       "      <th>0</th>\n",
       "      <td>ALPHAMITO</td>\n",
       "      <td>875</td>\n",
       "      <td>105</td>\n",
       "      <td>406</td>\n",
       "      <td>172</td>\n",
       "      <td>1130</td>\n",
       "      <td>184</td>\n",
       "      <td>11.4</td>\n",
       "      <td>98</td>\n",
       "    </tr>\n",
       "    <tr>\n",
       "      <th>1</th>\n",
       "      <td>AUDIA1</td>\n",
       "      <td>999</td>\n",
       "      <td>95</td>\n",
       "      <td>397</td>\n",
       "      <td>174</td>\n",
       "      <td>1065</td>\n",
       "      <td>186</td>\n",
       "      <td>10.9</td>\n",
       "      <td>103</td>\n",
       "    </tr>\n",
       "    <tr>\n",
       "      <th>2</th>\n",
       "      <td>CITROENC4</td>\n",
       "      <td>1199</td>\n",
       "      <td>130</td>\n",
       "      <td>442</td>\n",
       "      <td>182</td>\n",
       "      <td>1280</td>\n",
       "      <td>196</td>\n",
       "      <td>10.1</td>\n",
       "      <td>115</td>\n",
       "    </tr>\n",
       "    <tr>\n",
       "      <th>3</th>\n",
       "      <td>JAGUARF</td>\n",
       "      <td>2995</td>\n",
       "      <td>340</td>\n",
       "      <td>447</td>\n",
       "      <td>192</td>\n",
       "      <td>1587</td>\n",
       "      <td>260</td>\n",
       "      <td>5.7</td>\n",
       "      <td>234</td>\n",
       "    </tr>\n",
       "    <tr>\n",
       "      <th>4</th>\n",
       "      <td>PEUGEOTRCZ</td>\n",
       "      <td>1997</td>\n",
       "      <td>160</td>\n",
       "      <td>428</td>\n",
       "      <td>184</td>\n",
       "      <td>1370</td>\n",
       "      <td>220</td>\n",
       "      <td>8.2</td>\n",
       "      <td>130</td>\n",
       "    </tr>\n",
       "    <tr>\n",
       "      <th>5</th>\n",
       "      <td>LANDROVER</td>\n",
       "      <td>2993</td>\n",
       "      <td>256</td>\n",
       "      <td>483</td>\n",
       "      <td>191</td>\n",
       "      <td>2570</td>\n",
       "      <td>180</td>\n",
       "      <td>9.3</td>\n",
       "      <td>203</td>\n",
       "    </tr>\n",
       "    <tr>\n",
       "      <th>6</th>\n",
       "      <td>RENAULTCLIO</td>\n",
       "      <td>898</td>\n",
       "      <td>90</td>\n",
       "      <td>406</td>\n",
       "      <td>173</td>\n",
       "      <td>1092</td>\n",
       "      <td>182</td>\n",
       "      <td>12.2</td>\n",
       "      <td>105</td>\n",
       "    </tr>\n",
       "    <tr>\n",
       "      <th>7</th>\n",
       "      <td>BMWS3</td>\n",
       "      <td>1995</td>\n",
       "      <td>116</td>\n",
       "      <td>462</td>\n",
       "      <td>181</td>\n",
       "      <td>1570</td>\n",
       "      <td>198</td>\n",
       "      <td>11.1</td>\n",
       "      <td>109</td>\n",
       "    </tr>\n",
       "    <tr>\n",
       "      <th>8</th>\n",
       "      <td>DACIA</td>\n",
       "      <td>898</td>\n",
       "      <td>90</td>\n",
       "      <td>406</td>\n",
       "      <td>173</td>\n",
       "      <td>962</td>\n",
       "      <td>175</td>\n",
       "      <td>11.1</td>\n",
       "      <td>116</td>\n",
       "    </tr>\n",
       "    <tr>\n",
       "      <th>9</th>\n",
       "      <td>HYUNDAI</td>\n",
       "      <td>1995</td>\n",
       "      <td>136</td>\n",
       "      <td>447</td>\n",
       "      <td>185</td>\n",
       "      <td>1751</td>\n",
       "      <td>184</td>\n",
       "      <td>10.9</td>\n",
       "      <td>139</td>\n",
       "    </tr>\n",
       "    <tr>\n",
       "      <th>10</th>\n",
       "      <td>LANCIA</td>\n",
       "      <td>2776</td>\n",
       "      <td>177</td>\n",
       "      <td>522</td>\n",
       "      <td>200</td>\n",
       "      <td>2315</td>\n",
       "      <td>193</td>\n",
       "      <td>11.5</td>\n",
       "      <td>207</td>\n",
       "    </tr>\n",
       "    <tr>\n",
       "      <th>11</th>\n",
       "      <td>RENAULTCAPTUR</td>\n",
       "      <td>898</td>\n",
       "      <td>90</td>\n",
       "      <td>412</td>\n",
       "      <td>178</td>\n",
       "      <td>1180</td>\n",
       "      <td>171</td>\n",
       "      <td>13.0</td>\n",
       "      <td>113</td>\n",
       "    </tr>\n",
       "    <tr>\n",
       "      <th>12</th>\n",
       "      <td>FORDMUSTANG</td>\n",
       "      <td>4951</td>\n",
       "      <td>421</td>\n",
       "      <td>272</td>\n",
       "      <td>192</td>\n",
       "      <td>1720</td>\n",
       "      <td>250</td>\n",
       "      <td>4.8</td>\n",
       "      <td>299</td>\n",
       "    </tr>\n",
       "    <tr>\n",
       "      <th>13</th>\n",
       "      <td>FIAT500</td>\n",
       "      <td>1242</td>\n",
       "      <td>69</td>\n",
       "      <td>355</td>\n",
       "      <td>163</td>\n",
       "      <td>905</td>\n",
       "      <td>160</td>\n",
       "      <td>12.9</td>\n",
       "      <td>115</td>\n",
       "    </tr>\n",
       "    <tr>\n",
       "      <th>14</th>\n",
       "      <td>HONDA</td>\n",
       "      <td>2199</td>\n",
       "      <td>150</td>\n",
       "      <td>472</td>\n",
       "      <td>184</td>\n",
       "      <td>1632</td>\n",
       "      <td>212</td>\n",
       "      <td>9.4</td>\n",
       "      <td>138</td>\n",
       "    </tr>\n",
       "    <tr>\n",
       "      <th>15</th>\n",
       "      <td>FERRARI</td>\n",
       "      <td>6262</td>\n",
       "      <td>660</td>\n",
       "      <td>491</td>\n",
       "      <td>195</td>\n",
       "      <td>1880</td>\n",
       "      <td>335</td>\n",
       "      <td>4.1</td>\n",
       "      <td>380</td>\n",
       "    </tr>\n",
       "    <tr>\n",
       "      <th>16</th>\n",
       "      <td>SUBARU</td>\n",
       "      <td>1998</td>\n",
       "      <td>147</td>\n",
       "      <td>445</td>\n",
       "      <td>178</td>\n",
       "      <td>1440</td>\n",
       "      <td>198</td>\n",
       "      <td>9.3</td>\n",
       "      <td>141</td>\n",
       "    </tr>\n",
       "    <tr>\n",
       "      <th>17</th>\n",
       "      <td>MAZDA</td>\n",
       "      <td>1560</td>\n",
       "      <td>115</td>\n",
       "      <td>458</td>\n",
       "      <td>175</td>\n",
       "      <td>1490</td>\n",
       "      <td>180</td>\n",
       "      <td>13.7</td>\n",
       "      <td>138</td>\n",
       "    </tr>\n",
       "    <tr>\n",
       "      <th>18</th>\n",
       "      <td>VOLKSWAGEN</td>\n",
       "      <td>1598</td>\n",
       "      <td>105</td>\n",
       "      <td>425</td>\n",
       "      <td>179</td>\n",
       "      <td>1220</td>\n",
       "      <td>192</td>\n",
       "      <td>10.7</td>\n",
       "      <td>99</td>\n",
       "    </tr>\n",
       "    <tr>\n",
       "      <th>19</th>\n",
       "      <td>JAGUARPACE</td>\n",
       "      <td>1999</td>\n",
       "      <td>180</td>\n",
       "      <td>473</td>\n",
       "      <td>194</td>\n",
       "      <td>1775</td>\n",
       "      <td>208</td>\n",
       "      <td>8.7</td>\n",
       "      <td>139</td>\n",
       "    </tr>\n",
       "  </tbody>\n",
       "</table>\n",
       "</div>"
      ],
      "text/plain": [
       "           Modele   CYL  PUIS  LON  LAR  POIDS  VITESSE  ACCEL  CO2\n",
       "0       ALPHAMITO   875   105  406  172   1130      184   11.4   98\n",
       "1          AUDIA1   999    95  397  174   1065      186   10.9  103\n",
       "2       CITROENC4  1199   130  442  182   1280      196   10.1  115\n",
       "3         JAGUARF  2995   340  447  192   1587      260    5.7  234\n",
       "4      PEUGEOTRCZ  1997   160  428  184   1370      220    8.2  130\n",
       "5       LANDROVER  2993   256  483  191   2570      180    9.3  203\n",
       "6     RENAULTCLIO   898    90  406  173   1092      182   12.2  105\n",
       "7           BMWS3  1995   116  462  181   1570      198   11.1  109\n",
       "8           DACIA   898    90  406  173    962      175   11.1  116\n",
       "9         HYUNDAI  1995   136  447  185   1751      184   10.9  139\n",
       "10         LANCIA  2776   177  522  200   2315      193   11.5  207\n",
       "11  RENAULTCAPTUR   898    90  412  178   1180      171   13.0  113\n",
       "12    FORDMUSTANG  4951   421  272  192   1720      250    4.8  299\n",
       "13        FIAT500  1242    69  355  163    905      160   12.9  115\n",
       "14          HONDA  2199   150  472  184   1632      212    9.4  138\n",
       "15        FERRARI  6262   660  491  195   1880      335    4.1  380\n",
       "16         SUBARU  1998   147  445  178   1440      198    9.3  141\n",
       "17          MAZDA  1560   115  458  175   1490      180   13.7  138\n",
       "18     VOLKSWAGEN  1598   105  425  179   1220      192   10.7   99\n",
       "19     JAGUARPACE  1999   180  473  194   1775      208    8.7  139"
      ]
     },
     "execution_count": 9,
     "metadata": {},
     "output_type": "execute_result"
    }
   ],
   "source": [
    "# Exemple de nettoyage des données : supprimer les lignes avec des valeurs manquantes\n",
    "df_voitures = df_voitures.dropna()\n",
    "df_voitures"
   ]
  },
  {
   "cell_type": "markdown",
   "id": "a245a695",
   "metadata": {},
   "source": [
    "## Preprocessing"
   ]
  },
  {
   "cell_type": "code",
   "execution_count": 10,
   "id": "1e0f630b",
   "metadata": {},
   "outputs": [
    {
     "name": "stdout",
     "output_type": "stream",
     "text": [
      "<class 'pandas.core.frame.DataFrame'>\n",
      "Int64Index: 20 entries, 0 to 19\n",
      "Data columns (total 9 columns):\n",
      " #   Column   Non-Null Count  Dtype  \n",
      "---  ------   --------------  -----  \n",
      " 0   Modele   20 non-null     object \n",
      " 1   CYL      20 non-null     int64  \n",
      " 2   PUIS     20 non-null     int64  \n",
      " 3   LON      20 non-null     int64  \n",
      " 4   LAR      20 non-null     int64  \n",
      " 5   POIDS    20 non-null     int64  \n",
      " 6   VITESSE  20 non-null     int64  \n",
      " 7   ACCEL    20 non-null     float64\n",
      " 8   CO2      20 non-null     int64  \n",
      "dtypes: float64(1), int64(7), object(1)\n",
      "memory usage: 1.6+ KB\n"
     ]
    }
   ],
   "source": [
    "# Afficher les informations sur le DataFrame\n",
    "df_voitures.info()"
   ]
  },
  {
   "cell_type": "code",
   "execution_count": 11,
   "id": "ba7c8c6a",
   "metadata": {},
   "outputs": [
    {
     "data": {
      "text/html": [
       "<div>\n",
       "<style scoped>\n",
       "    .dataframe tbody tr th:only-of-type {\n",
       "        vertical-align: middle;\n",
       "    }\n",
       "\n",
       "    .dataframe tbody tr th {\n",
       "        vertical-align: top;\n",
       "    }\n",
       "\n",
       "    .dataframe thead th {\n",
       "        text-align: right;\n",
       "    }\n",
       "</style>\n",
       "<table border=\"1\" class=\"dataframe\">\n",
       "  <thead>\n",
       "    <tr style=\"text-align: right;\">\n",
       "      <th></th>\n",
       "      <th>Modele</th>\n",
       "      <th>CYL</th>\n",
       "      <th>PUIS</th>\n",
       "      <th>LON</th>\n",
       "      <th>LAR</th>\n",
       "      <th>POIDS</th>\n",
       "      <th>VITESSE</th>\n",
       "      <th>ACCEL</th>\n",
       "    </tr>\n",
       "  </thead>\n",
       "  <tbody>\n",
       "    <tr>\n",
       "      <th>0</th>\n",
       "      <td>ALPHAMITO</td>\n",
       "      <td>875</td>\n",
       "      <td>105</td>\n",
       "      <td>406</td>\n",
       "      <td>172</td>\n",
       "      <td>1130</td>\n",
       "      <td>184</td>\n",
       "      <td>11.4</td>\n",
       "    </tr>\n",
       "    <tr>\n",
       "      <th>1</th>\n",
       "      <td>AUDIA1</td>\n",
       "      <td>999</td>\n",
       "      <td>95</td>\n",
       "      <td>397</td>\n",
       "      <td>174</td>\n",
       "      <td>1065</td>\n",
       "      <td>186</td>\n",
       "      <td>10.9</td>\n",
       "    </tr>\n",
       "    <tr>\n",
       "      <th>2</th>\n",
       "      <td>CITROENC4</td>\n",
       "      <td>1199</td>\n",
       "      <td>130</td>\n",
       "      <td>442</td>\n",
       "      <td>182</td>\n",
       "      <td>1280</td>\n",
       "      <td>196</td>\n",
       "      <td>10.1</td>\n",
       "    </tr>\n",
       "    <tr>\n",
       "      <th>3</th>\n",
       "      <td>JAGUARF</td>\n",
       "      <td>2995</td>\n",
       "      <td>340</td>\n",
       "      <td>447</td>\n",
       "      <td>192</td>\n",
       "      <td>1587</td>\n",
       "      <td>260</td>\n",
       "      <td>5.7</td>\n",
       "    </tr>\n",
       "    <tr>\n",
       "      <th>4</th>\n",
       "      <td>PEUGEOTRCZ</td>\n",
       "      <td>1997</td>\n",
       "      <td>160</td>\n",
       "      <td>428</td>\n",
       "      <td>184</td>\n",
       "      <td>1370</td>\n",
       "      <td>220</td>\n",
       "      <td>8.2</td>\n",
       "    </tr>\n",
       "    <tr>\n",
       "      <th>5</th>\n",
       "      <td>LANDROVER</td>\n",
       "      <td>2993</td>\n",
       "      <td>256</td>\n",
       "      <td>483</td>\n",
       "      <td>191</td>\n",
       "      <td>2570</td>\n",
       "      <td>180</td>\n",
       "      <td>9.3</td>\n",
       "    </tr>\n",
       "    <tr>\n",
       "      <th>6</th>\n",
       "      <td>RENAULTCLIO</td>\n",
       "      <td>898</td>\n",
       "      <td>90</td>\n",
       "      <td>406</td>\n",
       "      <td>173</td>\n",
       "      <td>1092</td>\n",
       "      <td>182</td>\n",
       "      <td>12.2</td>\n",
       "    </tr>\n",
       "    <tr>\n",
       "      <th>7</th>\n",
       "      <td>BMWS3</td>\n",
       "      <td>1995</td>\n",
       "      <td>116</td>\n",
       "      <td>462</td>\n",
       "      <td>181</td>\n",
       "      <td>1570</td>\n",
       "      <td>198</td>\n",
       "      <td>11.1</td>\n",
       "    </tr>\n",
       "    <tr>\n",
       "      <th>8</th>\n",
       "      <td>DACIA</td>\n",
       "      <td>898</td>\n",
       "      <td>90</td>\n",
       "      <td>406</td>\n",
       "      <td>173</td>\n",
       "      <td>962</td>\n",
       "      <td>175</td>\n",
       "      <td>11.1</td>\n",
       "    </tr>\n",
       "    <tr>\n",
       "      <th>9</th>\n",
       "      <td>HYUNDAI</td>\n",
       "      <td>1995</td>\n",
       "      <td>136</td>\n",
       "      <td>447</td>\n",
       "      <td>185</td>\n",
       "      <td>1751</td>\n",
       "      <td>184</td>\n",
       "      <td>10.9</td>\n",
       "    </tr>\n",
       "    <tr>\n",
       "      <th>10</th>\n",
       "      <td>LANCIA</td>\n",
       "      <td>2776</td>\n",
       "      <td>177</td>\n",
       "      <td>522</td>\n",
       "      <td>200</td>\n",
       "      <td>2315</td>\n",
       "      <td>193</td>\n",
       "      <td>11.5</td>\n",
       "    </tr>\n",
       "    <tr>\n",
       "      <th>11</th>\n",
       "      <td>RENAULTCAPTUR</td>\n",
       "      <td>898</td>\n",
       "      <td>90</td>\n",
       "      <td>412</td>\n",
       "      <td>178</td>\n",
       "      <td>1180</td>\n",
       "      <td>171</td>\n",
       "      <td>13.0</td>\n",
       "    </tr>\n",
       "    <tr>\n",
       "      <th>12</th>\n",
       "      <td>FORDMUSTANG</td>\n",
       "      <td>4951</td>\n",
       "      <td>421</td>\n",
       "      <td>272</td>\n",
       "      <td>192</td>\n",
       "      <td>1720</td>\n",
       "      <td>250</td>\n",
       "      <td>4.8</td>\n",
       "    </tr>\n",
       "    <tr>\n",
       "      <th>13</th>\n",
       "      <td>FIAT500</td>\n",
       "      <td>1242</td>\n",
       "      <td>69</td>\n",
       "      <td>355</td>\n",
       "      <td>163</td>\n",
       "      <td>905</td>\n",
       "      <td>160</td>\n",
       "      <td>12.9</td>\n",
       "    </tr>\n",
       "    <tr>\n",
       "      <th>14</th>\n",
       "      <td>HONDA</td>\n",
       "      <td>2199</td>\n",
       "      <td>150</td>\n",
       "      <td>472</td>\n",
       "      <td>184</td>\n",
       "      <td>1632</td>\n",
       "      <td>212</td>\n",
       "      <td>9.4</td>\n",
       "    </tr>\n",
       "    <tr>\n",
       "      <th>15</th>\n",
       "      <td>FERRARI</td>\n",
       "      <td>6262</td>\n",
       "      <td>660</td>\n",
       "      <td>491</td>\n",
       "      <td>195</td>\n",
       "      <td>1880</td>\n",
       "      <td>335</td>\n",
       "      <td>4.1</td>\n",
       "    </tr>\n",
       "    <tr>\n",
       "      <th>16</th>\n",
       "      <td>SUBARU</td>\n",
       "      <td>1998</td>\n",
       "      <td>147</td>\n",
       "      <td>445</td>\n",
       "      <td>178</td>\n",
       "      <td>1440</td>\n",
       "      <td>198</td>\n",
       "      <td>9.3</td>\n",
       "    </tr>\n",
       "    <tr>\n",
       "      <th>17</th>\n",
       "      <td>MAZDA</td>\n",
       "      <td>1560</td>\n",
       "      <td>115</td>\n",
       "      <td>458</td>\n",
       "      <td>175</td>\n",
       "      <td>1490</td>\n",
       "      <td>180</td>\n",
       "      <td>13.7</td>\n",
       "    </tr>\n",
       "    <tr>\n",
       "      <th>18</th>\n",
       "      <td>VOLKSWAGEN</td>\n",
       "      <td>1598</td>\n",
       "      <td>105</td>\n",
       "      <td>425</td>\n",
       "      <td>179</td>\n",
       "      <td>1220</td>\n",
       "      <td>192</td>\n",
       "      <td>10.7</td>\n",
       "    </tr>\n",
       "    <tr>\n",
       "      <th>19</th>\n",
       "      <td>JAGUARPACE</td>\n",
       "      <td>1999</td>\n",
       "      <td>180</td>\n",
       "      <td>473</td>\n",
       "      <td>194</td>\n",
       "      <td>1775</td>\n",
       "      <td>208</td>\n",
       "      <td>8.7</td>\n",
       "    </tr>\n",
       "  </tbody>\n",
       "</table>\n",
       "</div>"
      ],
      "text/plain": [
       "           Modele   CYL  PUIS  LON  LAR  POIDS  VITESSE  ACCEL\n",
       "0       ALPHAMITO   875   105  406  172   1130      184   11.4\n",
       "1          AUDIA1   999    95  397  174   1065      186   10.9\n",
       "2       CITROENC4  1199   130  442  182   1280      196   10.1\n",
       "3         JAGUARF  2995   340  447  192   1587      260    5.7\n",
       "4      PEUGEOTRCZ  1997   160  428  184   1370      220    8.2\n",
       "5       LANDROVER  2993   256  483  191   2570      180    9.3\n",
       "6     RENAULTCLIO   898    90  406  173   1092      182   12.2\n",
       "7           BMWS3  1995   116  462  181   1570      198   11.1\n",
       "8           DACIA   898    90  406  173    962      175   11.1\n",
       "9         HYUNDAI  1995   136  447  185   1751      184   10.9\n",
       "10         LANCIA  2776   177  522  200   2315      193   11.5\n",
       "11  RENAULTCAPTUR   898    90  412  178   1180      171   13.0\n",
       "12    FORDMUSTANG  4951   421  272  192   1720      250    4.8\n",
       "13        FIAT500  1242    69  355  163    905      160   12.9\n",
       "14          HONDA  2199   150  472  184   1632      212    9.4\n",
       "15        FERRARI  6262   660  491  195   1880      335    4.1\n",
       "16         SUBARU  1998   147  445  178   1440      198    9.3\n",
       "17          MAZDA  1560   115  458  175   1490      180   13.7\n",
       "18     VOLKSWAGEN  1598   105  425  179   1220      192   10.7\n",
       "19     JAGUARPACE  1999   180  473  194   1775      208    8.7"
      ]
     },
     "execution_count": 11,
     "metadata": {},
     "output_type": "execute_result"
    }
   ],
   "source": [
    "cars = df_voitures.iloc[:, 0:8] \n",
    "cars"
   ]
  },
  {
   "cell_type": "markdown",
   "id": "67396b70",
   "metadata": {},
   "source": [
    "# 1. Avec les données sur les voitures, réalisez une (ou des) classifications avec la méthode des kmean et interprétez les résultats obtenus"
   ]
  },
  {
   "cell_type": "markdown",
   "id": "df8ff83b",
   "metadata": {},
   "source": [
    "# Détermination du nombre optimal de clusters k"
   ]
  },
  {
   "cell_type": "markdown",
   "id": "99ba4620",
   "metadata": {},
   "source": [
    "# Méthode du coude"
   ]
  },
  {
   "cell_type": "code",
   "execution_count": 48,
   "id": "5ee6e933",
   "metadata": {},
   "outputs": [
    {
     "name": "stderr",
     "output_type": "stream",
     "text": [
      "C:\\Users\\maeva\\anaconda3\\lib\\site-packages\\sklearn\\cluster\\_kmeans.py:881: UserWarning: KMeans is known to have a memory leak on Windows with MKL, when there are less chunks than available threads. You can avoid it by setting the environment variable OMP_NUM_THREADS=1.\n",
      "  warnings.warn(\n"
     ]
    },
    {
     "data": {
      "image/png": "[encoded data removed]",
      "text/plain": [
       "<Figure size 720x360 with 1 Axes>"
      ]
     },
     "metadata": {
      "needs_background": "light"
     },
     "output_type": "display_data"
    }
   ],
   "source": [
    "cars_numeric = cars.select_dtypes(include=[np.number])\n",
    "\n",
    "# Application de K-Means\n",
    "wcss = []\n",
    "for i in range(1, 11):\n",
    "    kmeans = KMeans(n_clusters=i, init='k-means++', max_iter=300, n_init=10, random_state=0)\n",
    "    kmeans.fit(cars_numeric)\n",
    "    wcss.append(kmeans.inertia_)\n",
    "\n",
    "# Tracé du graphique\n",
    "plt.figure(figsize=(10,5))\n",
    "plt.plot(range(1, 11), wcss, marker='o', color='green')\n",
    "plt.title(\"Méthode d'Elbow\")\n",
    "plt.xlabel('Nombre de clusters')\n",
    "plt.ylabel('Somme totale des carrés intra-cluster (WCSS)')\n",
    "plt.show()"
   ]
  },
  {
   "cell_type": "markdown",
   "id": "cea93e4d",
   "metadata": {},
   "source": [
    "Dans ce graphique, il apparaît qu’il y a une cassure ou un « coude » à k = 3 et 4. Il n'est pas évident d'arbitrer objectivement entre ces deux nombres. Nous choisirons cependant 3 clusters dans notre cas."
   ]
  },
  {
   "cell_type": "markdown",
   "id": "7c5dece4",
   "metadata": {},
   "source": [
    "# Application de l'algorithme de K-Means"
   ]
  },
  {
   "cell_type": "markdown",
   "id": "3d1b483f",
   "metadata": {},
   "source": [
    "On instancie notre estimateur:"
   ]
  },
  {
   "cell_type": "code",
   "execution_count": 49,
   "id": "b4eacfb7",
   "metadata": {
    "scrolled": true
   },
   "outputs": [
    {
     "name": "stdout",
     "output_type": "stream",
     "text": [
      "CYL          int64\n",
      "PUIS         int64\n",
      "LON          int64\n",
      "LAR          int64\n",
      "POIDS        int64\n",
      "VITESSE      int64\n",
      "ACCEL      float64\n",
      "dtype: object\n"
     ]
    }
   ],
   "source": [
    "print(cars.dtypes)"
   ]
  },
  {
   "cell_type": "code",
   "execution_count": 51,
   "id": "d29632a0",
   "metadata": {},
   "outputs": [
    {
     "data": {
      "text/plain": [
       "KMeans(n_clusters=3, random_state=42)"
      ]
     },
     "execution_count": 51,
     "metadata": {},
     "output_type": "execute_result"
    }
   ],
   "source": [
    "cars_numeric = cars.select_dtypes(include=[np.number])\n",
    "kmeans = KMeans(n_clusters=3, init = 'k-means++', random_state=42)\n",
    "kmeans.fit(cars_numeric)"
   ]
  },
  {
   "cell_type": "markdown",
   "id": "9deb5490",
   "metadata": {},
   "source": [
    "On calcule les moyennes des variables en fonction des clusters "
   ]
  },
  {
   "cell_type": "code",
   "execution_count": 52,
   "id": "e1b151eb",
   "metadata": {},
   "outputs": [
    {
     "data": {
      "text/plain": [
       "array([[1.12966667e+03, 9.87777778e+01, 4.11888889e+02, 1.74333333e+02,\n",
       "        1.14711111e+03, 1.80666667e+02, 1.17777778e+01],\n",
       "       [5.60650000e+03, 5.40500000e+02, 3.81500000e+02, 1.93500000e+02,\n",
       "        1.80000000e+03, 2.92500000e+02, 4.45000000e+00],\n",
       "       [2.32744444e+03, 1.84666667e+02, 4.64333333e+02, 1.87666667e+02,\n",
       "        1.77888889e+03, 2.05888889e+02, 9.34444444e+00]])"
      ]
     },
     "execution_count": 52,
     "metadata": {},
     "output_type": "execute_result"
    }
   ],
   "source": [
    "kmeans.cluster_centers_"
   ]
  },
  {
   "cell_type": "markdown",
   "id": "28e1ead1",
   "metadata": {},
   "source": [
    "Regardons maintenant les clusters que nous avons obtenus"
   ]
  },
  {
   "cell_type": "code",
   "execution_count": 53,
   "id": "eae2faf1",
   "metadata": {},
   "outputs": [
    {
     "data": {
      "text/plain": [
       "array([0, 0, 0, 2, 2, 2, 0, 2, 0, 2, 2, 0, 1, 0, 2, 1, 2, 0, 0, 2])"
      ]
     },
     "execution_count": 53,
     "metadata": {},
     "output_type": "execute_result"
    }
   ],
   "source": [
    "pred = kmeans.predict(cars_numeric)\n",
    "pred"
   ]
  },
  {
   "cell_type": "markdown",
   "id": "11a31b93",
   "metadata": {},
   "source": [
    "Ici 0,1 et 2 sont à considérer comme des variables catégorielles cardinales. Il n'y a pas d'ordre entre les clusters"
   ]
  },
  {
   "cell_type": "code",
   "execution_count": 55,
   "id": "0de85250",
   "metadata": {},
   "outputs": [
    {
     "name": "stdout",
     "output_type": "stream",
     "text": [
      "Nombre de données ou d observations dans chaque cluster :\n",
      " 0    9\n",
      "1    2\n",
      "2    9\n",
      "Name: cluster, dtype: int64\n"
     ]
    },
    {
     "data": {
      "text/html": [
       "<div>\n",
       "<style scoped>\n",
       "    .dataframe tbody tr th:only-of-type {\n",
       "        vertical-align: middle;\n",
       "    }\n",
       "\n",
       "    .dataframe tbody tr th {\n",
       "        vertical-align: top;\n",
       "    }\n",
       "\n",
       "    .dataframe thead th {\n",
       "        text-align: right;\n",
       "    }\n",
       "</style>\n",
       "<table border=\"1\" class=\"dataframe\">\n",
       "  <thead>\n",
       "    <tr style=\"text-align: right;\">\n",
       "      <th></th>\n",
       "      <th>CYL</th>\n",
       "      <th>PUIS</th>\n",
       "      <th>LON</th>\n",
       "      <th>LAR</th>\n",
       "      <th>POIDS</th>\n",
       "      <th>VITESSE</th>\n",
       "      <th>ACCEL</th>\n",
       "      <th>CO2</th>\n",
       "      <th>cluster</th>\n",
       "    </tr>\n",
       "    <tr>\n",
       "      <th>Modele</th>\n",
       "      <th></th>\n",
       "      <th></th>\n",
       "      <th></th>\n",
       "      <th></th>\n",
       "      <th></th>\n",
       "      <th></th>\n",
       "      <th></th>\n",
       "      <th></th>\n",
       "      <th></th>\n",
       "    </tr>\n",
       "  </thead>\n",
       "  <tbody>\n",
       "    <tr>\n",
       "      <th>ALPHAMITO</th>\n",
       "      <td>875</td>\n",
       "      <td>105</td>\n",
       "      <td>406</td>\n",
       "      <td>172</td>\n",
       "      <td>1130</td>\n",
       "      <td>184</td>\n",
       "      <td>11.4</td>\n",
       "      <td>98</td>\n",
       "      <td>0</td>\n",
       "    </tr>\n",
       "    <tr>\n",
       "      <th>AUDIA1</th>\n",
       "      <td>999</td>\n",
       "      <td>95</td>\n",
       "      <td>397</td>\n",
       "      <td>174</td>\n",
       "      <td>1065</td>\n",
       "      <td>186</td>\n",
       "      <td>10.9</td>\n",
       "      <td>103</td>\n",
       "      <td>0</td>\n",
       "    </tr>\n",
       "    <tr>\n",
       "      <th>CITROENC4</th>\n",
       "      <td>1199</td>\n",
       "      <td>130</td>\n",
       "      <td>442</td>\n",
       "      <td>182</td>\n",
       "      <td>1280</td>\n",
       "      <td>196</td>\n",
       "      <td>10.1</td>\n",
       "      <td>115</td>\n",
       "      <td>0</td>\n",
       "    </tr>\n",
       "    <tr>\n",
       "      <th>JAGUARF</th>\n",
       "      <td>2995</td>\n",
       "      <td>340</td>\n",
       "      <td>447</td>\n",
       "      <td>192</td>\n",
       "      <td>1587</td>\n",
       "      <td>260</td>\n",
       "      <td>5.7</td>\n",
       "      <td>234</td>\n",
       "      <td>2</td>\n",
       "    </tr>\n",
       "    <tr>\n",
       "      <th>PEUGEOTRCZ</th>\n",
       "      <td>1997</td>\n",
       "      <td>160</td>\n",
       "      <td>428</td>\n",
       "      <td>184</td>\n",
       "      <td>1370</td>\n",
       "      <td>220</td>\n",
       "      <td>8.2</td>\n",
       "      <td>130</td>\n",
       "      <td>2</td>\n",
       "    </tr>\n",
       "    <tr>\n",
       "      <th>LANDROVER</th>\n",
       "      <td>2993</td>\n",
       "      <td>256</td>\n",
       "      <td>483</td>\n",
       "      <td>191</td>\n",
       "      <td>2570</td>\n",
       "      <td>180</td>\n",
       "      <td>9.3</td>\n",
       "      <td>203</td>\n",
       "      <td>2</td>\n",
       "    </tr>\n",
       "    <tr>\n",
       "      <th>RENAULTCLIO</th>\n",
       "      <td>898</td>\n",
       "      <td>90</td>\n",
       "      <td>406</td>\n",
       "      <td>173</td>\n",
       "      <td>1092</td>\n",
       "      <td>182</td>\n",
       "      <td>12.2</td>\n",
       "      <td>105</td>\n",
       "      <td>0</td>\n",
       "    </tr>\n",
       "    <tr>\n",
       "      <th>BMWS3</th>\n",
       "      <td>1995</td>\n",
       "      <td>116</td>\n",
       "      <td>462</td>\n",
       "      <td>181</td>\n",
       "      <td>1570</td>\n",
       "      <td>198</td>\n",
       "      <td>11.1</td>\n",
       "      <td>109</td>\n",
       "      <td>2</td>\n",
       "    </tr>\n",
       "    <tr>\n",
       "      <th>DACIA</th>\n",
       "      <td>898</td>\n",
       "      <td>90</td>\n",
       "      <td>406</td>\n",
       "      <td>173</td>\n",
       "      <td>962</td>\n",
       "      <td>175</td>\n",
       "      <td>11.1</td>\n",
       "      <td>116</td>\n",
       "      <td>0</td>\n",
       "    </tr>\n",
       "    <tr>\n",
       "      <th>HYUNDAI</th>\n",
       "      <td>1995</td>\n",
       "      <td>136</td>\n",
       "      <td>447</td>\n",
       "      <td>185</td>\n",
       "      <td>1751</td>\n",
       "      <td>184</td>\n",
       "      <td>10.9</td>\n",
       "      <td>139</td>\n",
       "      <td>2</td>\n",
       "    </tr>\n",
       "    <tr>\n",
       "      <th>LANCIA</th>\n",
       "      <td>2776</td>\n",
       "      <td>177</td>\n",
       "      <td>522</td>\n",
       "      <td>200</td>\n",
       "      <td>2315</td>\n",
       "      <td>193</td>\n",
       "      <td>11.5</td>\n",
       "      <td>207</td>\n",
       "      <td>2</td>\n",
       "    </tr>\n",
       "    <tr>\n",
       "      <th>RENAULTCAPTUR</th>\n",
       "      <td>898</td>\n",
       "      <td>90</td>\n",
       "      <td>412</td>\n",
       "      <td>178</td>\n",
       "      <td>1180</td>\n",
       "      <td>171</td>\n",
       "      <td>13.0</td>\n",
       "      <td>113</td>\n",
       "      <td>0</td>\n",
       "    </tr>\n",
       "    <tr>\n",
       "      <th>FORDMUSTANG</th>\n",
       "      <td>4951</td>\n",
       "      <td>421</td>\n",
       "      <td>272</td>\n",
       "      <td>192</td>\n",
       "      <td>1720</td>\n",
       "      <td>250</td>\n",
       "      <td>4.8</td>\n",
       "      <td>299</td>\n",
       "      <td>1</td>\n",
       "    </tr>\n",
       "    <tr>\n",
       "      <th>FIAT500</th>\n",
       "      <td>1242</td>\n",
       "      <td>69</td>\n",
       "      <td>355</td>\n",
       "      <td>163</td>\n",
       "      <td>905</td>\n",
       "      <td>160</td>\n",
       "      <td>12.9</td>\n",
       "      <td>115</td>\n",
       "      <td>0</td>\n",
       "    </tr>\n",
       "    <tr>\n",
       "      <th>HONDA</th>\n",
       "      <td>2199</td>\n",
       "      <td>150</td>\n",
       "      <td>472</td>\n",
       "      <td>184</td>\n",
       "      <td>1632</td>\n",
       "      <td>212</td>\n",
       "      <td>9.4</td>\n",
       "      <td>138</td>\n",
       "      <td>2</td>\n",
       "    </tr>\n",
       "    <tr>\n",
       "      <th>FERRARI</th>\n",
       "      <td>6262</td>\n",
       "      <td>660</td>\n",
       "      <td>491</td>\n",
       "      <td>195</td>\n",
       "      <td>1880</td>\n",
       "      <td>335</td>\n",
       "      <td>4.1</td>\n",
       "      <td>380</td>\n",
       "      <td>1</td>\n",
       "    </tr>\n",
       "    <tr>\n",
       "      <th>SUBARU</th>\n",
       "      <td>1998</td>\n",
       "      <td>147</td>\n",
       "      <td>445</td>\n",
       "      <td>178</td>\n",
       "      <td>1440</td>\n",
       "      <td>198</td>\n",
       "      <td>9.3</td>\n",
       "      <td>141</td>\n",
       "      <td>2</td>\n",
       "    </tr>\n",
       "    <tr>\n",
       "      <th>MAZDA</th>\n",
       "      <td>1560</td>\n",
       "      <td>115</td>\n",
       "      <td>458</td>\n",
       "      <td>175</td>\n",
       "      <td>1490</td>\n",
       "      <td>180</td>\n",
       "      <td>13.7</td>\n",
       "      <td>138</td>\n",
       "      <td>0</td>\n",
       "    </tr>\n",
       "    <tr>\n",
       "      <th>VOLKSWAGEN</th>\n",
       "      <td>1598</td>\n",
       "      <td>105</td>\n",
       "      <td>425</td>\n",
       "      <td>179</td>\n",
       "      <td>1220</td>\n",
       "      <td>192</td>\n",
       "      <td>10.7</td>\n",
       "      <td>99</td>\n",
       "      <td>0</td>\n",
       "    </tr>\n",
       "    <tr>\n",
       "      <th>JAGUARPACE</th>\n",
       "      <td>1999</td>\n",
       "      <td>180</td>\n",
       "      <td>473</td>\n",
       "      <td>194</td>\n",
       "      <td>1775</td>\n",
       "      <td>208</td>\n",
       "      <td>8.7</td>\n",
       "      <td>139</td>\n",
       "      <td>2</td>\n",
       "    </tr>\n",
       "  </tbody>\n",
       "</table>\n",
       "</div>"
      ],
      "text/plain": [
       "                CYL  PUIS  LON  LAR  POIDS  VITESSE  ACCEL  CO2  cluster\n",
       "Modele                                                                  \n",
       "ALPHAMITO       875   105  406  172   1130      184   11.4   98        0\n",
       "AUDIA1          999    95  397  174   1065      186   10.9  103        0\n",
       "CITROENC4      1199   130  442  182   1280      196   10.1  115        0\n",
       "JAGUARF        2995   340  447  192   1587      260    5.7  234        2\n",
       "PEUGEOTRCZ     1997   160  428  184   1370      220    8.2  130        2\n",
       "LANDROVER      2993   256  483  191   2570      180    9.3  203        2\n",
       "RENAULTCLIO     898    90  406  173   1092      182   12.2  105        0\n",
       "BMWS3          1995   116  462  181   1570      198   11.1  109        2\n",
       "DACIA           898    90  406  173    962      175   11.1  116        0\n",
       "HYUNDAI        1995   136  447  185   1751      184   10.9  139        2\n",
       "LANCIA         2776   177  522  200   2315      193   11.5  207        2\n",
       "RENAULTCAPTUR   898    90  412  178   1180      171   13.0  113        0\n",
       "FORDMUSTANG    4951   421  272  192   1720      250    4.8  299        1\n",
       "FIAT500        1242    69  355  163    905      160   12.9  115        0\n",
       "HONDA          2199   150  472  184   1632      212    9.4  138        2\n",
       "FERRARI        6262   660  491  195   1880      335    4.1  380        1\n",
       "SUBARU         1998   147  445  178   1440      198    9.3  141        2\n",
       "MAZDA          1560   115  458  175   1490      180   13.7  138        0\n",
       "VOLKSWAGEN     1598   105  425  179   1220      192   10.7   99        0\n",
       "JAGUARPACE     1999   180  473  194   1775      208    8.7  139        2"
      ]
     },
     "execution_count": 55,
     "metadata": {},
     "output_type": "execute_result"
    }
   ],
   "source": [
    "df_voitures['cluster'] = pred\n",
    "print('Nombre de données ou d observations dans chaque cluster :\\n', \n",
    "      df_voitures['cluster'].value_counts().sort_index())\n",
    "df_voitures"
   ]
  },
  {
   "cell_type": "markdown",
   "id": "3971f378",
   "metadata": {},
   "source": [
    "On a donc 3 clusters de tailles 9, 2, 9\n"
   ]
  },
  {
   "cell_type": "markdown",
   "id": "97dac4bd",
   "metadata": {},
   "source": [
    "# Boxplots par cluster"
   ]
  },
  {
   "cell_type": "code",
   "execution_count": 56,
   "id": "f742b67d",
   "metadata": {},
   "outputs": [
    {
     "name": "stdout",
     "output_type": "stream",
     "text": [
      "cluster:  0\n"
     ]
    },
    {
     "data": {
      "image/png": "[encoded data removed]",
      "text/plain": [
       "<Figure size 432x288 with 1 Axes>"
      ]
     },
     "metadata": {
      "needs_background": "light"
     },
     "output_type": "display_data"
    },
    {
     "name": "stdout",
     "output_type": "stream",
     "text": [
      "cluster:  1\n"
     ]
    },
    {
     "data": {
      "image/png": "[encoded data removed]",
      "text/plain": [
       "<Figure size 432x288 with 1 Axes>"
      ]
     },
     "metadata": {
      "needs_background": "light"
     },
     "output_type": "display_data"
    },
    {
     "name": "stdout",
     "output_type": "stream",
     "text": [
      "cluster:  2\n"
     ]
    },
    {
     "data": {
      "image/png": "[encoded data removed]",
      "text/plain": [
       "<Figure size 432x288 with 1 Axes>"
      ]
     },
     "metadata": {
      "needs_background": "light"
     },
     "output_type": "display_data"
    }
   ],
   "source": [
    "for i in [0,1,2]:\n",
    "    print('cluster: ',i)\n",
    "    df_voitures[df_voitures['cluster']==i].boxplot()\n",
    "    plt.show()"
   ]
  },
  {
   "cell_type": "markdown",
   "id": "8dba778c",
   "metadata": {},
   "source": [
    "# Cluster Means"
   ]
  },
  {
   "cell_type": "code",
   "execution_count": 57,
   "id": "bf957aaa",
   "metadata": {
    "scrolled": true
   },
   "outputs": [
    {
     "data": {
      "text/html": [
       "<div>\n",
       "<style scoped>\n",
       "    .dataframe tbody tr th:only-of-type {\n",
       "        vertical-align: middle;\n",
       "    }\n",
       "\n",
       "    .dataframe tbody tr th {\n",
       "        vertical-align: top;\n",
       "    }\n",
       "\n",
       "    .dataframe thead th {\n",
       "        text-align: right;\n",
       "    }\n",
       "</style>\n",
       "<table border=\"1\" class=\"dataframe\">\n",
       "  <thead>\n",
       "    <tr style=\"text-align: right;\">\n",
       "      <th></th>\n",
       "      <th>CYL</th>\n",
       "      <th>PUIS</th>\n",
       "      <th>LON</th>\n",
       "      <th>LAR</th>\n",
       "      <th>POIDS</th>\n",
       "      <th>VITESSE</th>\n",
       "      <th>ACCEL</th>\n",
       "      <th>CO2</th>\n",
       "    </tr>\n",
       "    <tr>\n",
       "      <th>cluster</th>\n",
       "      <th></th>\n",
       "      <th></th>\n",
       "      <th></th>\n",
       "      <th></th>\n",
       "      <th></th>\n",
       "      <th></th>\n",
       "      <th></th>\n",
       "      <th></th>\n",
       "    </tr>\n",
       "  </thead>\n",
       "  <tbody>\n",
       "    <tr>\n",
       "      <th>0</th>\n",
       "      <td>1129.666667</td>\n",
       "      <td>98.777778</td>\n",
       "      <td>411.888889</td>\n",
       "      <td>174.333333</td>\n",
       "      <td>1147.111111</td>\n",
       "      <td>180.666667</td>\n",
       "      <td>11.777778</td>\n",
       "      <td>111.333333</td>\n",
       "    </tr>\n",
       "    <tr>\n",
       "      <th>1</th>\n",
       "      <td>5606.500000</td>\n",
       "      <td>540.500000</td>\n",
       "      <td>381.500000</td>\n",
       "      <td>193.500000</td>\n",
       "      <td>1800.000000</td>\n",
       "      <td>292.500000</td>\n",
       "      <td>4.450000</td>\n",
       "      <td>339.500000</td>\n",
       "    </tr>\n",
       "    <tr>\n",
       "      <th>2</th>\n",
       "      <td>2327.444444</td>\n",
       "      <td>184.666667</td>\n",
       "      <td>464.333333</td>\n",
       "      <td>187.666667</td>\n",
       "      <td>1778.888889</td>\n",
       "      <td>205.888889</td>\n",
       "      <td>9.344444</td>\n",
       "      <td>160.000000</td>\n",
       "    </tr>\n",
       "  </tbody>\n",
       "</table>\n",
       "</div>"
      ],
      "text/plain": [
       "                 CYL        PUIS         LON         LAR        POIDS  \\\n",
       "cluster                                                                 \n",
       "0        1129.666667   98.777778  411.888889  174.333333  1147.111111   \n",
       "1        5606.500000  540.500000  381.500000  193.500000  1800.000000   \n",
       "2        2327.444444  184.666667  464.333333  187.666667  1778.888889   \n",
       "\n",
       "            VITESSE      ACCEL         CO2  \n",
       "cluster                                     \n",
       "0        180.666667  11.777778  111.333333  \n",
       "1        292.500000   4.450000  339.500000  \n",
       "2        205.888889   9.344444  160.000000  "
      ]
     },
     "execution_count": 57,
     "metadata": {},
     "output_type": "execute_result"
    }
   ],
   "source": [
    "cluster_means = df_voitures.groupby('cluster').mean()\n",
    "\n",
    "cluster_means"
   ]
  },
  {
   "cell_type": "markdown",
   "id": "c9e59abf",
   "metadata": {},
   "source": [
    "# Clustering vectors"
   ]
  },
  {
   "cell_type": "code",
   "execution_count": 58,
   "id": "82032d74",
   "metadata": {
    "scrolled": true
   },
   "outputs": [
    {
     "data": {
      "text/html": [
       "<div>\n",
       "<style scoped>\n",
       "    .dataframe tbody tr th:only-of-type {\n",
       "        vertical-align: middle;\n",
       "    }\n",
       "\n",
       "    .dataframe tbody tr th {\n",
       "        vertical-align: top;\n",
       "    }\n",
       "\n",
       "    .dataframe thead th {\n",
       "        text-align: right;\n",
       "    }\n",
       "</style>\n",
       "<table border=\"1\" class=\"dataframe\">\n",
       "  <thead>\n",
       "    <tr style=\"text-align: right;\">\n",
       "      <th>Modele</th>\n",
       "      <th>ALPHAMITO</th>\n",
       "      <th>AUDIA1</th>\n",
       "      <th>CITROENC4</th>\n",
       "      <th>JAGUARF</th>\n",
       "      <th>PEUGEOTRCZ</th>\n",
       "      <th>LANDROVER</th>\n",
       "      <th>RENAULTCLIO</th>\n",
       "      <th>BMWS3</th>\n",
       "      <th>DACIA</th>\n",
       "      <th>HYUNDAI</th>\n",
       "      <th>LANCIA</th>\n",
       "      <th>RENAULTCAPTUR</th>\n",
       "      <th>FORDMUSTANG</th>\n",
       "      <th>FIAT500</th>\n",
       "      <th>HONDA</th>\n",
       "      <th>FERRARI</th>\n",
       "      <th>SUBARU</th>\n",
       "      <th>MAZDA</th>\n",
       "      <th>VOLKSWAGEN</th>\n",
       "      <th>JAGUARPACE</th>\n",
       "    </tr>\n",
       "  </thead>\n",
       "  <tbody>\n",
       "    <tr>\n",
       "      <th>cluster</th>\n",
       "      <td>0</td>\n",
       "      <td>0</td>\n",
       "      <td>0</td>\n",
       "      <td>2</td>\n",
       "      <td>2</td>\n",
       "      <td>2</td>\n",
       "      <td>0</td>\n",
       "      <td>2</td>\n",
       "      <td>0</td>\n",
       "      <td>2</td>\n",
       "      <td>2</td>\n",
       "      <td>0</td>\n",
       "      <td>1</td>\n",
       "      <td>0</td>\n",
       "      <td>2</td>\n",
       "      <td>1</td>\n",
       "      <td>2</td>\n",
       "      <td>0</td>\n",
       "      <td>0</td>\n",
       "      <td>2</td>\n",
       "    </tr>\n",
       "  </tbody>\n",
       "</table>\n",
       "</div>"
      ],
      "text/plain": [
       "Modele   ALPHAMITO  AUDIA1  CITROENC4  JAGUARF  PEUGEOTRCZ  LANDROVER  \\\n",
       "cluster          0       0          0        2           2          2   \n",
       "\n",
       "Modele   RENAULTCLIO  BMWS3  DACIA  HYUNDAI  LANCIA  RENAULTCAPTUR  \\\n",
       "cluster            0      2      0        2       2              0   \n",
       "\n",
       "Modele   FORDMUSTANG  FIAT500  HONDA  FERRARI  SUBARU  MAZDA  VOLKSWAGEN  \\\n",
       "cluster            1        0      2        1       2      0           0   \n",
       "\n",
       "Modele   JAGUARPACE  \n",
       "cluster           2  "
      ]
     },
     "execution_count": 58,
     "metadata": {},
     "output_type": "execute_result"
    }
   ],
   "source": [
    "clustering_vector = df_voitures[['cluster']]\n",
    "clustering_vector = clustering_vector.T #transposition\n",
    "clustering_vector"
   ]
  },
  {
   "cell_type": "markdown",
   "id": "14f29f51",
   "metadata": {},
   "source": [
    "\n",
    "# VISUALISATION DES CLUSTERS PREDITS PAR LE K-MEANS CLUSTERING"
   ]
  },
  {
   "cell_type": "markdown",
   "id": "e48ac48d",
   "metadata": {},
   "source": [
    "Nous devons d'abord choisir deux ou trois variables parmi les données pour \n",
    "visualiser les clusters. Étant donné que nous ne pouvons pas visualiser toutes \n",
    "les caractéristiques des voitures en même temps, nous choisirons deux ou trois\n",
    "variables qui représentent le mieux la variation dans les données. \n",
    "Par exemple, nous pourrions choisir la vitesse et les émissions de CO2 \n",
    "(CO2) pour une visualisation 2D"
   ]
  },
  {
   "cell_type": "markdown",
   "id": "7ba0854d",
   "metadata": {},
   "source": [
    "Justification de ce choix de variables : \n",
    "Cette paire de variables a été choisie pour capturer à la fois les aspects de performance et d'impact environnemental des véhicules. \n",
    "En effet, les émissions de CO2 sont souvent corrélées avec d'autres caractéristiques des voitures, comme la puissance ou le cylindrage\n"
   ]
  },
  {
   "cell_type": "code",
   "execution_count": 59,
   "id": "fcf45b00",
   "metadata": {
    "scrolled": true
   },
   "outputs": [
    {
     "data": {
      "image/png": "[encoded data removed]",
      "text/plain": [
       "<Figure size 720x432 with 1 Axes>"
      ]
     },
     "metadata": {
      "needs_background": "light"
     },
     "output_type": "display_data"
    }
   ],
   "source": [
    "centers = kmeans.cluster_centers_\n",
    "plt.figure(figsize=(10, 6))\n",
    "colors = ['blue', 'green', 'red', 'purple']  # Couleurs pour les clusters (bleu pour le cluster 0, vert pour le cluster 1, rouge pour le cluster 2 et violet pour le cluster 3)\n",
    "\n",
    "for i in range(3):\n",
    "    # Données de chaque cluster\n",
    "    cluster_table = df_voitures[df_voitures['cluster'] == i]\n",
    "    plt.scatter(cluster_table['VITESSE'], cluster_table['CYL'], color=colors[i], \n",
    "                label=f'Cluster {i}')\n",
    "\n",
    "    # pour les centres\n",
    "    plt.scatter(centers[i][cars.columns.get_loc('VITESSE')], \n",
    "                centers[i][cars.columns.get_loc('CYL')],\n",
    "                color='black', marker='*', s=200)\n",
    "\n",
    "plt.xlabel('Vitesse')\n",
    "plt.ylabel('Cylindrée')\n",
    "plt.title('Clusters de voitures')\n",
    "plt.legend()\n",
    "plt.show()"
   ]
  },
  {
   "cell_type": "markdown",
   "id": "70ad5a98",
   "metadata": {},
   "source": [
    "# INTERPRETATIONS"
   ]
  },
  {
   "cell_type": "markdown",
   "id": "f4a1440b",
   "metadata": {},
   "source": [
    "On distingue 3 classes de voitures via les clusters : \n",
    "- cluster 2 : ce cluster comprend des véhicules avec une faible cylindrée et puissance d'où les faibles émissions de CO2 et une vitesse maximale assez faible d'où une accélération plus lente. Ce type de véhicules se rapprochent généralement des voitures \"citadines\" ou \"économiques\" qui sont généralement conçues pour les déplacements en ville car économiques en terme de consommation de carburant. Leur assez faible vitesse maximale est également appropriée pour des voyages sur faible distance.\n",
    "- cluster 1 : il est caractérisé par des voitures disposant d'une cylindrée et d'une puissance et d'une vitesse maximale très élevées. Ces voitures ont une accélération très rapide et des émissions de CO2 élevées.  Les voitures de ce cluster sont clairement des voitures de sport de luxe, convenables pour des trajets de très longues distances ou sur des autoroutes.\n",
    "- cluster 0 : il regroupe des voitures avec une cylindrée et une puissance modérées, une bonne vitesse maximale et une accélération équilibrée. Ces véhicules ont de émissions de CO2 modérées. Ce type de véhicules s'apparente aux berlines ou au SUVs qui sont conçues pour être polyvalentes, adaptées à la fois à la conduite en ville et aux voyages sur de longues distances. Les catactéristiques de ce type de voitures sont intermédiaires entre celles du cluster 2 et celles du cluster 1, d'où le fait qu'elles soientt relativement équilibrées."
   ]
  },
  {
   "cell_type": "markdown",
   "id": "dc99086c",
   "metadata": {},
   "source": [
    "# 2. Faire une classification hiérarchique avec la méthode de “Ward” . Interpréter le dendrogramme. En combien de classes aurait-on envie de couper ce graphique ?"
   ]
  },
  {
   "cell_type": "markdown",
   "id": "d439eb7c",
   "metadata": {},
   "source": [
    "# Le clustering hiérarchique"
   ]
  },
  {
   "cell_type": "code",
   "execution_count": 60,
   "id": "341fcfb7",
   "metadata": {},
   "outputs": [],
   "source": [
    "#librairies pour la classificication ascendante hiérarchisante (CAH)\n",
    "\n",
    "from matplotlib import pyplot as plt\n",
    "from scipy.cluster.hierarchy import dendrogram, linkage, fcluster"
   ]
  },
  {
   "cell_type": "code",
   "execution_count": 62,
   "id": "2bd68475",
   "metadata": {},
   "outputs": [
    {
     "data": {
      "image/png": "[encoded data removed]",
      "text/plain": [
       "<Figure size 432x288 with 1 Axes>"
      ]
     },
     "metadata": {
      "needs_background": "light"
     },
     "output_type": "display_data"
    }
   ],
   "source": [
    "# On selectionne les données numériques uniquement\n",
    "cars_numeric = cars.select_dtypes(include=[np.number])\n",
    "\n",
    "# Générer de la matrice des liens\n",
    "mat = linkage(cars_numeric, method='ward', metric='euclidean')\n",
    "\n",
    "# On affiche le dendrogramme\n",
    "plt.title(\"Classification Ascendante Hiérarchique (CAH)\")\n",
    "dendrogram(mat, labels=cars_numeric.index, orientation='left', distance_sort='descending',\n",
    "           color_threshold=0, above_threshold_color='black')\n",
    "plt.show()"
   ]
  },
  {
   "cell_type": "markdown",
   "id": "7b309c59",
   "metadata": {},
   "source": [
    "# INTERPRETATION DU DENDOGRAMME"
   ]
  },
  {
   "cell_type": "markdown",
   "id": "f05828c2",
   "metadata": {},
   "source": [
    "Via ce dendogramme, on retrouve d'abord en haut les voitures FORDMUSTANG ET FERRARI qui selon les interprétations précédentes semblent appartenir à la classe des voitures de sport de luxe. Elles se démarquent par une cylindrée, une puissance et une vitesse très élevées. Elles émettent une grande quatité de CO2. Elles conviennent pour des voyages de long trajet.\n",
    "\n",
    "On distingue un autre groupe de véhicules allant de RENAULTCAPTUR à FIAT500, une variété de voitures dites citadines ou économiques, caractérisées par leurs faibles émissions de CO2, leurs cylindrées, puissances et vitesses peu fortes. Elles sont adaptées pour des déplacements à courte distance.\n",
    "\n",
    "Le troisième groupe comptant les voitures MAZDA à JAGUARPACE est quant à lui composé de berlines/SUV moyennes, appropriées pour des voyages à court ou long trajet. Elles ont une vitesse abordable. Elles sont puissantes et possèdent de fortes cylindrées.\n",
    "\n",
    "Le quatrième et dernier groupe est composé de trois voitures : JAGUARF, LANDROVER et LANCIA. Ces véhicules sont des berlines/SUV de haute gamme. Elles possèdent également les caractétistiques des berlines et SUV moyennes mais en meilleures. En effet, ces trois voitures sont beaucoup plus rapides que les moyennes et disposent aussi d'une puissance et d'une vitesse maximale supérieure pouvant avoisiner quelques voitures de luxe. Par exemple, la JAGUARF a une vitesse maximale supérieure à celle de la FORDMUSTANG qui est elle une voiture de sport de luxe. Ce type de véhicules est tout aussi adapté aux trajets longs et courts.\n",
    "\n",
    "En gros, on remarque que le cluster des berlines/SUV dans l'exercice 1 s'est en quelque sorte subdivisé en deux pour marquer la distinction entre les moyennes et les haut de gamme. Il existe également deux voitures qui sont passées de voitures économiques à berlines/SUV \"moyennes\"."
   ]
  },
  {
   "cell_type": "markdown",
   "id": "722f7353",
   "metadata": {},
   "source": [
    "En résumé, on aurait donc envie de couper ce dendogramme en 4 classes différentes : \n",
    "- les voitures économiques\n",
    "- les berlines/SUV moyennes\n",
    "- les berlines/SUV haut de gamme\n",
    "- les voitures de sport de luxe"
   ]
  },
  {
   "cell_type": "code",
   "execution_count": 63,
   "id": "57a88536",
   "metadata": {},
   "outputs": [
    {
     "data": {
      "image/png": "[encoded data removed]",
      "text/plain": [
       "<Figure size 432x288 with 1 Axes>"
      ]
     },
     "metadata": {
      "needs_background": "light"
     },
     "output_type": "display_data"
    }
   ],
   "source": [
    "# On sélectionne des données numériques uniquement\n",
    "cars_numeric = cars.select_dtypes(include=[np.number])\n",
    "\n",
    "# Génération de la matrice des liens\n",
    "mat = linkage(cars_numeric, method='ward', metric='euclidean')\n",
    "\n",
    "# Formation des clusters\n",
    "groupes_cah = fcluster(mat, t=1500, criterion='distance')\n",
    "\n",
    "# Affichage du dendrogramme avec les noms des voitures\n",
    "plt.title('CAH avec 4 clusters')\n",
    "dendrogram(mat, labels=cars_numeric.index, orientation='left', color_threshold=1500)\n",
    "plt.show()"
   ]
  }
 ],
 "metadata": {
  "kernelspec": {
   "display_name": "Python 3 (ipykernel)",
   "language": "python",
   "name": "python3"
  },
  "language_info": {
   "codemirror_mode": {
    "name": "ipython",
    "version": 3
   },
   "file_extension": ".py",
   "mimetype": "text/x-python",
   "name": "python",
   "nbconvert_exporter": "python",
   "pygments_lexer": "ipython3",
   "version": "3.9.7"
  }
 },
 "nbformat": 4,
 "nbformat_minor": 5
}
