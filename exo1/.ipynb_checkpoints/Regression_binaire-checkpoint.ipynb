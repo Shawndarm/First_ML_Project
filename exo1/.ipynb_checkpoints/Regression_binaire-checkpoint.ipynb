{
 "cells": [
  {
   "cell_type": "markdown",
   "id": "959bf2dd",
   "metadata": {},
   "source": [
    "## Import Librairies"
   ]
  },
  {
   "cell_type": "code",
   "execution_count": 1,
   "id": "74067484",
   "metadata": {},
   "outputs": [],
   "source": [
    "import os\n",
    "import numpy as np\n",
    "import pandas as pd \n",
    "import matplotlib.pyplot as plt\n",
    "import seaborn as sns\n",
    "from sklearn.model_selection import train_test_split\n",
    "from sklearn.metrics import mean_squared_error, r2_score                                    # Métriques\n",
    "from sklearn.metrics import accuracy_score, classification_report, confusion_matrix         # Métriques\n",
    "from sklearn.model_selection import GridSearchCV                                            # Pour la recherche d'hyperparamètres \n",
    "from sklearn.linear_model import LinearRegression                                           # Pour le régression linéaire\n",
    "from sklearn.linear_model import LogisticRegression                                         # Pour la régression logistique\n",
    "from sklearn.tree import DecisionTreeClassifier                                             # Pour l'arbre de décision\n",
    "from sklearn.ensemble import BaggingClassifier                                              # Pour le Bagging\n",
    "from sklearn.ensemble import RandomForestClassifier                                         # Pour le Random Forest\n",
    "from sklearn.ensemble import GradientBoostingClassifier                                     # Pour le Boosting\n",
    "from colorama import init, Fore, Back, Style                                                # Pour la police et les couleurs"
   ]
  },
  {
   "cell_type": "code",
   "execution_count": 2,
   "id": "3fd619ad",
   "metadata": {},
   "outputs": [
    {
     "name": "stdout",
     "output_type": "stream",
     "text": [
      "C:\\Users\\maeva\\OneDrive\\M1\\projet_ML\\notebooks\\exo1\n"
     ]
    }
   ],
   "source": [
    "print(os.getcwd())"
   ]
  },
  {
   "cell_type": "markdown",
   "id": "df64c8b3",
   "metadata": {},
   "source": [
    "#### Copier le chemin de vos données ici"
   ]
  },
  {
   "cell_type": "code",
   "execution_count": 4,
   "id": "07d145d9",
   "metadata": {
    "scrolled": true
   },
   "outputs": [
    {
     "name": "stdout",
     "output_type": "stream",
     "text": [
      "C:\\Users\\maeva\\OneDrive\\M1\\projet_ML\\notebooks\\exo1\n"
     ]
    },
    {
     "data": {
      "text/plain": [
       "'C:\\\\Users\\\\maeva\\\\OneDrive\\\\M1\\\\projet_ML\\\\notebooks'"
      ]
     },
     "execution_count": 4,
     "metadata": {},
     "output_type": "execute_result"
    }
   ],
   "source": [
    "print(os.getcwd())\n",
    "current_path = os.getcwd()\n",
    "path = os.path.abspath(os.path.join(current_path, '..'))\n",
    "path"
   ]
  },
  {
   "cell_type": "code",
   "execution_count": 5,
   "id": "92652bb6",
   "metadata": {},
   "outputs": [
    {
     "data": {
      "text/plain": [
       "'C:\\\\Users\\\\maeva\\\\OneDrive\\\\M1\\\\projet_ML\\\\notebooks'"
      ]
     },
     "execution_count": 5,
     "metadata": {},
     "output_type": "execute_result"
    }
   ],
   "source": [
    "path1 = os.path.abspath(os.path.join(current_path, '..'))\n",
    "path1"
   ]
  },
  {
   "cell_type": "code",
   "execution_count": 6,
   "id": "93ab2327",
   "metadata": {},
   "outputs": [
    {
     "name": "stdout",
     "output_type": "stream",
     "text": [
      "C:\\Users\\maeva\\OneDrive\\M1\\projet_ML\\notebooks\\data\n"
     ]
    }
   ],
   "source": [
    "path_data = os.path.join(path, 'data')\n",
    "os.chdir(path_data)\n",
    "print(os.getcwd())"
   ]
  },
  {
   "cell_type": "markdown",
   "id": "1b4f139b",
   "metadata": {},
   "source": [
    "## Exercice 1: Régression binaire"
   ]
  },
  {
   "cell_type": "markdown",
   "id": "9df86866",
   "metadata": {},
   "source": [
    "### Data exploration"
   ]
  },
  {
   "cell_type": "code",
   "execution_count": 7,
   "id": "4be3a4f0",
   "metadata": {},
   "outputs": [
    {
     "data": {
      "text/html": [
       "<div>\n",
       "<style scoped>\n",
       "    .dataframe tbody tr th:only-of-type {\n",
       "        vertical-align: middle;\n",
       "    }\n",
       "\n",
       "    .dataframe tbody tr th {\n",
       "        vertical-align: top;\n",
       "    }\n",
       "\n",
       "    .dataframe thead th {\n",
       "        text-align: right;\n",
       "    }\n",
       "</style>\n",
       "<table border=\"1\" class=\"dataframe\">\n",
       "  <thead>\n",
       "    <tr style=\"text-align: right;\">\n",
       "      <th></th>\n",
       "      <th>X1</th>\n",
       "      <th>X2</th>\n",
       "      <th>Y</th>\n",
       "    </tr>\n",
       "  </thead>\n",
       "  <tbody>\n",
       "    <tr>\n",
       "      <th>0</th>\n",
       "      <td>-1.681427</td>\n",
       "      <td>-1.534811</td>\n",
       "      <td>1</td>\n",
       "    </tr>\n",
       "    <tr>\n",
       "      <th>1</th>\n",
       "      <td>-0.690532</td>\n",
       "      <td>0.710814</td>\n",
       "      <td>1</td>\n",
       "    </tr>\n",
       "    <tr>\n",
       "      <th>2</th>\n",
       "      <td>4.676125</td>\n",
       "      <td>-1.624768</td>\n",
       "      <td>2</td>\n",
       "    </tr>\n",
       "    <tr>\n",
       "      <th>3</th>\n",
       "      <td>0.211525</td>\n",
       "      <td>3.657683</td>\n",
       "      <td>2</td>\n",
       "    </tr>\n",
       "    <tr>\n",
       "      <th>4</th>\n",
       "      <td>0.387863</td>\n",
       "      <td>0.522408</td>\n",
       "      <td>2</td>\n",
       "    </tr>\n",
       "  </tbody>\n",
       "</table>\n",
       "</div>"
      ],
      "text/plain": [
       "         X1        X2  Y\n",
       "0 -1.681427 -1.534811  1\n",
       "1 -0.690532  0.710814  1\n",
       "2  4.676125 -1.624768  2\n",
       "3  0.211525  3.657683  2\n",
       "4  0.387863  0.522408  2"
      ]
     },
     "execution_count": 7,
     "metadata": {},
     "output_type": "execute_result"
    }
   ],
   "source": [
    "# Chargement des données\n",
    "dfsimu = pd.read_csv(\"simu.txt\",sep=\" \")\n",
    "dfsimu.head()"
   ]
  },
  {
   "cell_type": "code",
   "execution_count": 6,
   "id": "897b000c",
   "metadata": {},
   "outputs": [
    {
     "name": "stdout",
     "output_type": "stream",
     "text": [
      "<class 'pandas.core.frame.DataFrame'>\n",
      "RangeIndex: 2000 entries, 0 to 1999\n",
      "Data columns (total 3 columns):\n",
      " #   Column  Non-Null Count  Dtype  \n",
      "---  ------  --------------  -----  \n",
      " 0   X1      2000 non-null   float64\n",
      " 1   X2      2000 non-null   float64\n",
      " 2   Y       2000 non-null   int64  \n",
      "dtypes: float64(2), int64(1)\n",
      "memory usage: 47.0 KB\n",
      "X1    0\n",
      "X2    0\n",
      "Y     0\n",
      "dtype: int64\n"
     ]
    },
    {
     "data": {
      "text/html": [
       "<div>\n",
       "<style scoped>\n",
       "    .dataframe tbody tr th:only-of-type {\n",
       "        vertical-align: middle;\n",
       "    }\n",
       "\n",
       "    .dataframe tbody tr th {\n",
       "        vertical-align: top;\n",
       "    }\n",
       "\n",
       "    .dataframe thead th {\n",
       "        text-align: right;\n",
       "    }\n",
       "</style>\n",
       "<table border=\"1\" class=\"dataframe\">\n",
       "  <thead>\n",
       "    <tr style=\"text-align: right;\">\n",
       "      <th></th>\n",
       "      <th>X1</th>\n",
       "      <th>X2</th>\n",
       "      <th>Y</th>\n",
       "    </tr>\n",
       "  </thead>\n",
       "  <tbody>\n",
       "    <tr>\n",
       "      <th>count</th>\n",
       "      <td>2000.000000</td>\n",
       "      <td>2000.000000</td>\n",
       "      <td>2000.000000</td>\n",
       "    </tr>\n",
       "    <tr>\n",
       "      <th>mean</th>\n",
       "      <td>0.087890</td>\n",
       "      <td>-0.043909</td>\n",
       "      <td>1.414000</td>\n",
       "    </tr>\n",
       "    <tr>\n",
       "      <th>std</th>\n",
       "      <td>3.001684</td>\n",
       "      <td>2.955444</td>\n",
       "      <td>0.492672</td>\n",
       "    </tr>\n",
       "    <tr>\n",
       "      <th>min</th>\n",
       "      <td>-9.143583</td>\n",
       "      <td>-9.387265</td>\n",
       "      <td>1.000000</td>\n",
       "    </tr>\n",
       "    <tr>\n",
       "      <th>25%</th>\n",
       "      <td>-1.931862</td>\n",
       "      <td>-1.944058</td>\n",
       "      <td>1.000000</td>\n",
       "    </tr>\n",
       "    <tr>\n",
       "      <th>50%</th>\n",
       "      <td>0.086439</td>\n",
       "      <td>-0.074521</td>\n",
       "      <td>1.000000</td>\n",
       "    </tr>\n",
       "    <tr>\n",
       "      <th>75%</th>\n",
       "      <td>2.125775</td>\n",
       "      <td>1.945073</td>\n",
       "      <td>2.000000</td>\n",
       "    </tr>\n",
       "    <tr>\n",
       "      <th>max</th>\n",
       "      <td>10.171112</td>\n",
       "      <td>10.263284</td>\n",
       "      <td>2.000000</td>\n",
       "    </tr>\n",
       "  </tbody>\n",
       "</table>\n",
       "</div>"
      ],
      "text/plain": [
       "                X1           X2            Y\n",
       "count  2000.000000  2000.000000  2000.000000\n",
       "mean      0.087890    -0.043909     1.414000\n",
       "std       3.001684     2.955444     0.492672\n",
       "min      -9.143583    -9.387265     1.000000\n",
       "25%      -1.931862    -1.944058     1.000000\n",
       "50%       0.086439    -0.074521     1.000000\n",
       "75%       2.125775     1.945073     2.000000\n",
       "max      10.171112    10.263284     2.000000"
      ]
     },
     "metadata": {},
     "output_type": "display_data"
    }
   ],
   "source": [
    "# Informations sur la base de données\n",
    "dfsimu.info()\n",
    "# Vérifier les valeurs nulles dans le DataFrame\n",
    "print(dfsimu.isna().sum())\n",
    "# Statistiques descriptives\n",
    "display(dfsimu.describe())"
   ]
  },
  {
   "cell_type": "markdown",
   "id": "cb4a0ac1",
   "metadata": {},
   "source": [
    "Il y a 2 variables explicatives X1 et X2 et une variable expliquée Y qui est binaire (valeurs= 1 ou 2).\n",
    "\n",
    "Aucune valeur manquante."
   ]
  },
  {
   "cell_type": "markdown",
   "id": "541cdb13",
   "metadata": {},
   "source": [
    "# Question 1: Choix du meilleur modèle possible"
   ]
  },
  {
   "cell_type": "markdown",
   "id": "ad0875f6",
   "metadata": {},
   "source": [
    "Vu la nature du problème (regression binaire), des modèles tels que la régression logistique, les arbres de décision ou le Random Forest pourraient être appropriés.\n",
    "On va commencer par des modèles simples, puis monter en complexité.\n",
    "Tout d'abord, on divise nos données."
   ]
  },
  {
   "cell_type": "markdown",
   "id": "d49009ff",
   "metadata": {},
   "source": [
    "#### Division des données"
   ]
  },
  {
   "cell_type": "code",
   "execution_count": 7,
   "id": "23aaf4fb",
   "metadata": {},
   "outputs": [],
   "source": [
    "X = dfsimu[['X1','X2']]\n",
    "y = dfsimu['Y']\n",
    "# Division des données : 80% Train, 20% Test\n",
    "X_train, X_test, y_train, y_test = train_test_split(X, y, stratify=y, test_size=0.2, random_state=42)"
   ]
  },
  {
   "cell_type": "markdown",
   "id": "115bde83",
   "metadata": {},
   "source": [
    "## Modèle 0: Régression linéaire"
   ]
  },
  {
   "cell_type": "markdown",
   "id": "ad2959bd",
   "metadata": {},
   "source": [
    "#### Initialisation et entrainement du modèle"
   ]
  },
  {
   "cell_type": "code",
   "execution_count": 8,
   "id": "e9268a1e",
   "metadata": {},
   "outputs": [],
   "source": [
    "# Initialisation le modèle de régression linéaire\n",
    "model0 = LinearRegression()\n",
    "\n",
    "# Entraînement du modèle\n",
    "model0.fit(X_train, y_train)              #On réalise notre régression linéaire sur l'ensemble train\n",
    "\n",
    "# Prédiction sur les valeurs de l'ensemble de test\n",
    "y_pred0 = model0.predict(X_test)          #On récupère les prédictions du modèle concernant les \"nouvelles données\""
   ]
  },
  {
   "cell_type": "markdown",
   "id": "5752078d",
   "metadata": {},
   "source": [
    "#### Evaluation de la performance"
   ]
  },
  {
   "cell_type": "code",
   "execution_count": 9,
   "id": "d97664e0",
   "metadata": {},
   "outputs": [
    {
     "name": "stdout",
     "output_type": "stream",
     "text": [
      "\u001b[32m\u001b[1m\n",
      "MSE: 0.22721287305046942\n",
      "R2: 0.06410102749266033\n"
     ]
    }
   ],
   "source": [
    "# Mésures de performance\n",
    "mse = mean_squared_error(y_test, y_pred0) #Cela nous permet de mésurer l'écart entre les valeurs prédites et les valeurs réelles\n",
    "r2 = r2_score(y_test, y_pred0)            #Il mésure la capacité explicative de notre modèle.\n",
    "\n",
    "print(Fore.GREEN + Style.BRIGHT)\n",
    "print(f\"MSE: {mse}\")\n",
    "print(f\"R2: {r2}\")"
   ]
  },
  {
   "cell_type": "markdown",
   "id": "b0f944c3",
   "metadata": {},
   "source": [
    "#### Interpretations"
   ]
  },
  {
   "cell_type": "markdown",
   "id": "c5842c89",
   "metadata": {},
   "source": [
    "On a une MSE un peu élévée et un R2 beaucoup trop faible. De plus, ce modèle n'est pas adapté à notre problème de classification binaire car notre variable expliquée est discrète.\n",
    "Etant donné que notre variable expliquée est binaire, on va faire une regression logistique."
   ]
  },
  {
   "cell_type": "markdown",
   "id": "4e50f63d",
   "metadata": {},
   "source": [
    "## Modèle 1: Régression logistique"
   ]
  },
  {
   "cell_type": "markdown",
   "id": "0f987df7",
   "metadata": {},
   "source": [
    "#### Initialisation et entrainement du modèle"
   ]
  },
  {
   "cell_type": "code",
   "execution_count": 10,
   "id": "79cd55fb",
   "metadata": {},
   "outputs": [],
   "source": [
    "# Initialisation du modèle de régression logistique\n",
    "model1 = LogisticRegression(penalty='l2',random_state=42)     #On utilise la régularisation Ridge pour prévenir l'overfitting\n",
    "\n",
    "# Entraînement du modèle\n",
    "model1.fit(X_train, y_train)              \n",
    "\n",
    "# Prédiction sur les valeurs de l'ensemble de test\n",
    "y_pred1 = model1.predict(X_test)           "
   ]
  },
  {
   "cell_type": "markdown",
   "id": "c5f890ce",
   "metadata": {},
   "source": [
    "#### Evaluation de la performance"
   ]
  },
  {
   "cell_type": "code",
   "execution_count": 11,
   "id": "79fae4ce",
   "metadata": {},
   "outputs": [
    {
     "name": "stdout",
     "output_type": "stream",
     "text": [
      "\u001b[32m\u001b[1m\n",
      "Accuracy: 0.6725\n",
      "Rapport de classification:\n",
      "              precision    recall  f1-score   support\n",
      "\n",
      "           1       0.67      0.88      0.76       234\n",
      "           2       0.69      0.39      0.49       166\n",
      "\n",
      "    accuracy                           0.67       400\n",
      "   macro avg       0.68      0.63      0.63       400\n",
      "weighted avg       0.68      0.67      0.65       400\n",
      "\n"
     ]
    },
    {
     "data": {
      "image/png": "[encoded data removed]",
      "text/plain": [
       "<Figure size 640x480 with 1 Axes>"
      ]
     },
     "metadata": {},
     "output_type": "display_data"
    }
   ],
   "source": [
    "# Mesures de performance\n",
    "accuracy = accuracy_score(y_test, y_pred1)                    #Il mésure à quel point notre modèle est précis\n",
    "scores = classification_report(y_test, y_pred1)               #Pour les autres scores(F1, recall...)\n",
    "conf_matrix = confusion_matrix(y_test, y_pred1)               #Permet une bonne visualisation des predictions vs. réalité\n",
    "\n",
    "print(Fore.GREEN + Style.BRIGHT)\n",
    "print(f\"Accuracy: {accuracy}\")                               \n",
    "print(f\"Rapport de classification:\\n{scores}\")\n",
    "class_labels = ['1', '2']\n",
    "sns.heatmap(conf_matrix, annot=True, fmt=\"d\", cmap=\"Blues\", cbar=False, square=True,\n",
    "           xticklabels=class_labels, yticklabels=class_labels)\n",
    "plt.yticks(rotation=0)\n",
    "plt.ylabel(\"Valeurs réelles\")\n",
    "plt.xlabel(\"Valeurs prédites\")\n",
    "plt.title(\"Matrice de confusion\")\n",
    "plt.show()"
   ]
  },
  {
   "cell_type": "markdown",
   "id": "d09edded",
   "metadata": {},
   "source": [
    "#### Interpretations"
   ]
  },
  {
   "cell_type": "markdown",
   "id": "10c2514a",
   "metadata": {},
   "source": [
    "D'après nos différentes métriques:\n",
    "\n",
    "-On a une accuracy de 67,25% : La régression logistique est plutot performante.\n",
    "\n",
    "-On a une meilleure sensibilité(capacité du modèle à retrouver les Y=1)(recall=0.88) mais une faible spécificité (0.39): Le modèle se trompe beaucoup sur la classe 2. Cela peut etre dû au fait que les deux classes sont un peu déséquilibrées."
   ]
  },
  {
   "cell_type": "markdown",
   "id": "69e8b464",
   "metadata": {},
   "source": [
    "On va essayer d'autres modèles."
   ]
  },
  {
   "cell_type": "markdown",
   "id": "18b8ea10",
   "metadata": {},
   "source": [
    "## Modèle 2: Arbre de décision"
   ]
  },
  {
   "cell_type": "markdown",
   "id": "4c667559",
   "metadata": {},
   "source": [
    "#### Initialisation, optimisation et entrainement du modèle"
   ]
  },
  {
   "cell_type": "code",
   "execution_count": 13,
   "id": "1db2a436",
   "metadata": {},
   "outputs": [
    {
     "name": "stdout",
     "output_type": "stream",
     "text": [
      "\u001b[34m\u001b[1m\n",
      "Meilleurs paramètres: {'criterion': 'entropy', 'max_depth': 7}\n"
     ]
    }
   ],
   "source": [
    "# Initialisation du modèle de l'arbre de décision simple\n",
    "dtree_model = DecisionTreeClassifier(random_state=42)\n",
    "\n",
    "# On crée un dictionnaire des hyperparamètres que nous voulons tester pour l'optimisation de l'arbre de décision\n",
    "param_grid = {'criterion': ['gini', 'entropy'],    \n",
    "              'max_depth': np.arange(3, 15)}\n",
    "\n",
    "# On utilise la recherche en grille (GridSearch) pour tester toutes les combinaisons d'hyperparamètres\n",
    "dtree_gscv = GridSearchCV(dtree_model, param_grid, cv=5)\n",
    "\n",
    "# Entraînement du modèle\n",
    "dtree_gscv.fit(X_train, y_train)\n",
    "print(Fore.BLUE + Style.BRIGHT)\n",
    "print(\"Meilleurs paramètres:\",dtree_gscv.best_params_)     #Pour afficher les meilleurs hyperparamètres trouvés par la Gridsearch"
   ]
  },
  {
   "cell_type": "code",
   "execution_count": 14,
   "id": "c5438d44",
   "metadata": {},
   "outputs": [],
   "source": [
    "# On établit enfin notre arbre de décision optimisé\n",
    "model2 = DecisionTreeClassifier(**dtree_gscv.best_params_,random_state=42)\n",
    "\n",
    "# Entrainement du modèle\n",
    "model2.fit(X_train, y_train)\n",
    "\n",
    "# Prédiction sur les valeurs de l'ensemble de test\n",
    "y_pred2 = model2.predict(X_test)"
   ]
  },
  {
   "cell_type": "markdown",
   "id": "b05708bd",
   "metadata": {},
   "source": [
    "#### Evaluation de la performance"
   ]
  },
  {
   "cell_type": "code",
   "execution_count": 15,
   "id": "8a9e3f8d",
   "metadata": {},
   "outputs": [
    {
     "name": "stdout",
     "output_type": "stream",
     "text": [
      "\u001b[32m\u001b[1m\n",
      "Accuracy: 0.7675\n",
      "Rapport de classification:\n",
      "              precision    recall  f1-score   support\n",
      "\n",
      "           1       0.79      0.81      0.80       234\n",
      "           2       0.73      0.70      0.72       166\n",
      "\n",
      "    accuracy                           0.77       400\n",
      "   macro avg       0.76      0.76      0.76       400\n",
      "weighted avg       0.77      0.77      0.77       400\n",
      "\n"
     ]
    },
    {
     "data": {
      "image/png": "[encoded data removed]",
      "text/plain": [
       "<Figure size 640x480 with 1 Axes>"
      ]
     },
     "metadata": {},
     "output_type": "display_data"
    }
   ],
   "source": [
    "# Mésures de performances\n",
    "accuracy = accuracy_score(y_test, y_pred2)\n",
    "scores = classification_report(y_test, y_pred2)\n",
    "conf_matrix = confusion_matrix(y_test, y_pred2) \n",
    "\n",
    "print(Fore.GREEN + Style.BRIGHT)\n",
    "print(f\"Accuracy: {accuracy}\")                               \n",
    "print(f\"Rapport de classification:\\n{scores}\")\n",
    "class_labels = ['1', '2']\n",
    "sns.heatmap(conf_matrix, annot=True, fmt=\"d\", cmap=\"Blues\", cbar=False, square=True,\n",
    "           xticklabels=class_labels, yticklabels=class_labels)\n",
    "plt.yticks(rotation=0)\n",
    "plt.ylabel(\"Valeurs réelles\")\n",
    "plt.xlabel(\"Valeurs prédites\")\n",
    "plt.title(\"Matrice de confusion\")\n",
    "plt.show()"
   ]
  },
  {
   "cell_type": "markdown",
   "id": "33853b28",
   "metadata": {},
   "source": [
    "#### Interpretations"
   ]
  },
  {
   "cell_type": "markdown",
   "id": "5b466f06",
   "metadata": {},
   "source": [
    "L'arbre de décision est facilement interpretable.\n",
    "\n",
    "D'après nos différentes métriques:\n",
    "\n",
    "-On a une accuracy de 76,75% : Donc, notre arbre de décision est plus performant que la régression logistique.\n",
    "\n",
    "-On a d'assez bons recall (0.81 pour 1 et 0.70 pour 2)\n",
    "\n",
    "-Cependant, il y a de fortes variations de l'arbre si on change les données d'entrainement\n",
    "\n",
    "On peut encore monter en performance.\n",
    "Explorons d'autres modèles."
   ]
  },
  {
   "cell_type": "markdown",
   "id": "0663213f",
   "metadata": {},
   "source": [
    "## Modèle 3: Bagging"
   ]
  },
  {
   "cell_type": "markdown",
   "id": "5d3d5cc7",
   "metadata": {},
   "source": [
    "#### Initialisation, optimisation et entrainement du modèle"
   ]
  },
  {
   "cell_type": "code",
   "execution_count": 16,
   "id": "7a10f353",
   "metadata": {},
   "outputs": [
    {
     "name": "stdout",
     "output_type": "stream",
     "text": [
      "\u001b[34m\u001b[1m\n",
      "Meilleurs paramètres : {'max_samples': 0.5, 'n_estimators': 50}\n"
     ]
    }
   ],
   "source": [
    "# Modèle de base\n",
    "bag_model = BaggingClassifier(random_state=42)\n",
    "\n",
    "# Paramètres pour l'optimisation\n",
    "param_grid = {\n",
    "    'n_estimators': [10, 30, 50],    # Nombre d'arbres\n",
    "    'max_samples': [0.5, 0.7, 1.0],  # Fraction d'échantillons à utiliser pour chaque arbre (bootstrap)\n",
    "               }\n",
    "\n",
    "# Recherche en grille des hyperparamètres\n",
    "bag_gscv = GridSearchCV(bag_model, param_grid, cv=5, scoring='accuracy')\n",
    "\n",
    "# Entrainement du modèle\n",
    "bag_gscv.fit(X_train, y_train)\n",
    "print(Fore.BLUE + Style.BRIGHT)\n",
    "print(\"Meilleurs paramètres :\", bag_gscv.best_params_) #Pour afficher les meilleurs hyperparamètres trouvés par la Gridsearch"
   ]
  },
  {
   "cell_type": "code",
   "execution_count": 17,
   "id": "1244cdb4",
   "metadata": {},
   "outputs": [],
   "source": [
    "# On établit enfin notre modèle optimisé\n",
    "model3 = BaggingClassifier(**bag_gscv.best_params_, random_state=42)\n",
    "\n",
    "# Entrainement du modèle\n",
    "model3.fit(X_train, y_train)\n",
    "\n",
    "# Prédiction sur les valeurs de l'ensemble de test\n",
    "y_pred3 = model3.predict(X_test)"
   ]
  },
  {
   "cell_type": "markdown",
   "id": "884b6111",
   "metadata": {},
   "source": [
    "#### Evaluation de la performance"
   ]
  },
  {
   "cell_type": "code",
   "execution_count": 18,
   "id": "ddb11b33",
   "metadata": {},
   "outputs": [
    {
     "name": "stdout",
     "output_type": "stream",
     "text": [
      "\u001b[32m\u001b[1m\n",
      "Accuracy: 0.7825\n",
      "Rapport de classification:\n",
      "              precision    recall  f1-score   support\n",
      "\n",
      "           1       0.81      0.82      0.82       234\n",
      "           2       0.74      0.73      0.74       166\n",
      "\n",
      "    accuracy                           0.78       400\n",
      "   macro avg       0.78      0.77      0.78       400\n",
      "weighted avg       0.78      0.78      0.78       400\n",
      "\n"
     ]
    },
    {
     "data": {
      "image/png": "[encoded data removed]",
      "text/plain": [
       "<Figure size 640x480 with 1 Axes>"
      ]
     },
     "metadata": {},
     "output_type": "display_data"
    }
   ],
   "source": [
    "# Mésures de performances\n",
    "accuracy = accuracy_score(y_test, y_pred3)\n",
    "scores = classification_report(y_test, y_pred3)\n",
    "conf_matrix = confusion_matrix(y_test, y_pred3) \n",
    "\n",
    "print(Fore.GREEN + Style.BRIGHT)\n",
    "print(f\"Accuracy: {accuracy}\")                               \n",
    "print(f\"Rapport de classification:\\n{scores}\")\n",
    "class_labels = ['1', '2']\n",
    "sns.heatmap(conf_matrix, annot=True, fmt=\"d\", cmap=\"Blues\", cbar=False, square=True,\n",
    "           xticklabels=class_labels, yticklabels=class_labels)\n",
    "plt.yticks(rotation=0)\n",
    "plt.ylabel(\"Valeurs réelles\")\n",
    "plt.xlabel(\"Valeurs prédites\")\n",
    "plt.title(\"Matrice de confusion\")\n",
    "plt.show()"
   ]
  },
  {
   "cell_type": "markdown",
   "id": "7741b4e7",
   "metadata": {},
   "source": [
    "#### Interpretations"
   ]
  },
  {
   "cell_type": "markdown",
   "id": "c0b215bf",
   "metadata": {},
   "source": [
    "Le modèle de Bagging des arbres est un peu plus performant que l'arbre de décicision tout seul, d'après nos métriques."
   ]
  },
  {
   "cell_type": "markdown",
   "id": "366aaf4b",
   "metadata": {},
   "source": [
    "## Modèle 4: Random Forest"
   ]
  },
  {
   "cell_type": "markdown",
   "id": "01b7f613",
   "metadata": {},
   "source": [
    "#### Initialisation, optimisation et entrainement du modèle"
   ]
  },
  {
   "cell_type": "code",
   "execution_count": 19,
   "id": "6b92dba7",
   "metadata": {},
   "outputs": [
    {
     "name": "stdout",
     "output_type": "stream",
     "text": [
      "\u001b[34m\u001b[1m\n",
      "Meilleurs paramètres: {'max_depth': 10, 'max_samples': 0.2, 'n_estimators': 100}\n"
     ]
    }
   ],
   "source": [
    "# Grille des hyperparamètres à explorer\n",
    "param_grid = {\n",
    "    'n_estimators': [50, 100],                      #Nombre d'arbres\n",
    "    'max_depth': [2, 5, 10],                        #Profondeur maximale des arbres\n",
    "    'max_samples': [0.2, 0.7, 1]                    #Fraction d'échantillons à utiliser pour chaque arbre (bootstrap)\n",
    "               }\n",
    "\n",
    "# Initialisation du modèle de Random Forest\n",
    "rf_model = RandomForestClassifier(random_state=42)\n",
    "\n",
    "# Recherche d'hyperparamètres avec GridSearchCV\n",
    "rf_gscv = GridSearchCV(rf_model, param_grid, cv=5, scoring='accuracy')\n",
    "\n",
    "# Entraînement du modèle\n",
    "rf_gscv.fit(X_train, y_train)\n",
    "print(Fore.BLUE + Style.BRIGHT)\n",
    "print(\"Meilleurs paramètres:\", rf_gscv.best_params_)"
   ]
  },
  {
   "cell_type": "code",
   "execution_count": 20,
   "id": "97806a7e",
   "metadata": {},
   "outputs": [],
   "source": [
    "# Modèle avec les meilleurs hyperparamètres\n",
    "model4 = RandomForestClassifier(**rf_gscv.best_params_,random_state=42)\n",
    "\n",
    "# Entrainement du modèle\n",
    "model4.fit(X_train, y_train)\n",
    "\n",
    "# Prédiction sur les valeurs de l'ensemble de test\n",
    "y_pred4 = model4.predict(X_test)"
   ]
  },
  {
   "cell_type": "markdown",
   "id": "89b65618",
   "metadata": {},
   "source": [
    "#### Evaluation de la performance"
   ]
  },
  {
   "cell_type": "code",
   "execution_count": 21,
   "id": "f7830077",
   "metadata": {},
   "outputs": [
    {
     "name": "stdout",
     "output_type": "stream",
     "text": [
      "\u001b[32m\u001b[1m\n",
      "Accuracy: 0.8\n",
      "Rapport de classification:\n",
      "              precision    recall  f1-score   support\n",
      "\n",
      "           1       0.83      0.83      0.83       234\n",
      "           2       0.76      0.76      0.76       166\n",
      "\n",
      "    accuracy                           0.80       400\n",
      "   macro avg       0.79      0.79      0.79       400\n",
      "weighted avg       0.80      0.80      0.80       400\n",
      "\n"
     ]
    },
    {
     "data": {
      "image/png": "[encoded data removed]",
      "text/plain": [
       "<Figure size 640x480 with 1 Axes>"
      ]
     },
     "metadata": {},
     "output_type": "display_data"
    }
   ],
   "source": [
    "# Mésures de performances\n",
    "accuracy = accuracy_score(y_test, y_pred4)\n",
    "scores = classification_report(y_test, y_pred4)\n",
    "conf_matrix = confusion_matrix(y_test, y_pred4) \n",
    "\n",
    "print(Fore.GREEN + Style.BRIGHT)\n",
    "print(f\"Accuracy: {accuracy}\")                               \n",
    "print(f\"Rapport de classification:\\n{scores}\")\n",
    "class_labels = ['1', '2']\n",
    "sns.heatmap(conf_matrix, annot=True, fmt=\"d\", cmap=\"Blues\", cbar=False, square=True,\n",
    "           xticklabels=class_labels, yticklabels=class_labels)\n",
    "plt.yticks(rotation=0)\n",
    "plt.ylabel(\"Valeurs réelles\")\n",
    "plt.xlabel(\"Valeurs prédites\")\n",
    "plt.title(\"Matrice de confusion\")\n",
    "plt.show()"
   ]
  },
  {
   "cell_type": "markdown",
   "id": "9d759099",
   "metadata": {},
   "source": [
    "#### Interpretations"
   ]
  },
  {
   "cell_type": "markdown",
   "id": "02ce9c05",
   "metadata": {},
   "source": [
    "D'après nos métriques:\n",
    "\n",
    "Notre modèle a une précision globale de 80%, il surpasse ainsi les modèles précédents en termes de performance.\n",
    "Le recall, qui mésure la capacité du modèle à identifier correctement les instances d'une classe est également très bon (83% pour 1 et de 76% pour 2).\n",
    "\n",
    "On a aussi de bons scores en général.(F1-score: 83% et 76%)\n",
    "\n",
    "Cependant, d’autres réglages des hyperparamètres pourraient changer ces résultats.\n",
    "\n",
    "En résumé, le modèle présente une performance globale solide avec une légère asymétrie dans la précision entre les deux classes. Cependant, on perd en interpretabilité. On a tout de même le critère d'importance des variables."
   ]
  },
  {
   "cell_type": "markdown",
   "id": "3ab7cdc6",
   "metadata": {},
   "source": [
    "#### Importance des variables"
   ]
  },
  {
   "cell_type": "code",
   "execution_count": 22,
   "id": "331795c6",
   "metadata": {},
   "outputs": [
    {
     "data": {
      "image/png": "[encoded data removed]",
      "text/plain": [
       "<Figure size 400x400 with 1 Axes>"
      ]
     },
     "metadata": {},
     "output_type": "display_data"
    }
   ],
   "source": [
    "importance = model4.feature_importances_\n",
    "indices = np.argsort(importance)[::-1]             #Donne les indices triés par ordre décroissant d'importance des variables\n",
    "\n",
    "#Affichage de l'importance\n",
    "plt.figure(figsize=(4, 4))\n",
    "plt.bar(range(X_train.shape[1]), importance[indices])\n",
    "plt.xticks(range(X_train.shape[1]), X_train.columns[indices])\n",
    "plt.xlabel(\"Variables\")\n",
    "plt.ylabel(\"Importance des variables\")\n",
    "plt.title(\"Importance des variables du Random Forest\")     \n",
    "plt.show()"
   ]
  },
  {
   "cell_type": "markdown",
   "id": "97487efc",
   "metadata": {},
   "source": [
    "Les deux variables ont quasiment le même niveau d'importance.\n",
    "On aurait eu des résultats plus intéressants si on avait un bon nombre de variables.\n",
    "\n",
    "Explorons un dernier modèle..."
   ]
  },
  {
   "cell_type": "markdown",
   "id": "78488e81",
   "metadata": {},
   "source": [
    "## Modèle 5: Boosting algorithme Gradient Boosting"
   ]
  },
  {
   "cell_type": "markdown",
   "id": "1392e0ef",
   "metadata": {},
   "source": [
    "#### Initialisation, optimisation et entrainement du modèle"
   ]
  },
  {
   "cell_type": "code",
   "execution_count": 23,
   "id": "df1b56bf",
   "metadata": {},
   "outputs": [
    {
     "name": "stdout",
     "output_type": "stream",
     "text": [
      "\u001b[34m\u001b[1m\n",
      "Meilleurs paramètres {'learning_rate': 0.1, 'max_depth': 3, 'n_estimators': 100}\n"
     ]
    }
   ],
   "source": [
    "# Grille des hyperparamètres\n",
    "param_grid = {\n",
    "    'n_estimators': [50, 75, 100],\n",
    "    'learning_rate': [0.01, 0.1, 0.2],\n",
    "    'max_depth':[3,5,7]\n",
    "               }\n",
    "\n",
    "# Initialisation du modèle de Gradient Boosting\n",
    "gb_model = GradientBoostingClassifier(random_state=42)\n",
    "\n",
    "# Recherche d'hyperparamètres avec GridSearchCV\n",
    "gb_gscv = GridSearchCV(gb_model, param_grid, cv=5, scoring='accuracy')\n",
    "\n",
    "# Entraînement du modèle\n",
    "gb_gscv.fit(X_train, y_train)\n",
    "print(Fore.BLUE + Style.BRIGHT)\n",
    "print(\"Meilleurs paramètres\",gb_gscv.best_params_)"
   ]
  },
  {
   "cell_type": "code",
   "execution_count": 24,
   "id": "ba83b09e",
   "metadata": {},
   "outputs": [],
   "source": [
    "# Modèle avec les meilleurs hyperparamètres\n",
    "model_5 = GradientBoostingClassifier(**gb_gscv.best_params_, random_state= 42)\n",
    "\n",
    "# Entrainement du modèle\n",
    "model_5.fit(X_train, y_train)\n",
    "\n",
    "# Prédiction sur les valeurs de l'ensemble de test\n",
    "y_pred5 = model_5.predict(X_test)"
   ]
  },
  {
   "cell_type": "markdown",
   "id": "146bd4a9",
   "metadata": {},
   "source": [
    "#### Evaluation de la performance"
   ]
  },
  {
   "cell_type": "code",
   "execution_count": 25,
   "id": "267e3871",
   "metadata": {},
   "outputs": [
    {
     "name": "stdout",
     "output_type": "stream",
     "text": [
      "\u001b[32m\u001b[1m\n",
      "Accuracy: 0.78\n",
      "Rapport de classification:\n",
      "              precision    recall  f1-score   support\n",
      "\n",
      "           1       0.80      0.83      0.82       234\n",
      "           2       0.75      0.71      0.73       166\n",
      "\n",
      "    accuracy                           0.78       400\n",
      "   macro avg       0.77      0.77      0.77       400\n",
      "weighted avg       0.78      0.78      0.78       400\n",
      "\n"
     ]
    },
    {
     "data": {
      "image/png": "[encoded data removed]",
      "text/plain": [
       "<Figure size 640x480 with 1 Axes>"
      ]
     },
     "metadata": {},
     "output_type": "display_data"
    }
   ],
   "source": [
    "accuracy = accuracy_score(y_test, y_pred5)\n",
    "conf_matrix = confusion_matrix(y_test, y_pred5)\n",
    "scores = classification_report(y_test, y_pred5)\n",
    "\n",
    "print(Fore.GREEN + Style.BRIGHT)\n",
    "print(f\"Accuracy: {accuracy}\")                               \n",
    "print(f\"Rapport de classification:\\n{scores}\")\n",
    "class_labels = ['1', '2']\n",
    "sns.heatmap(conf_matrix, annot=True, fmt=\"d\", cmap=\"Blues\", cbar=False, square=True,\n",
    "           xticklabels=class_labels, yticklabels=class_labels)\n",
    "plt.yticks(rotation=0)\n",
    "plt.ylabel(\"Valeurs réelles\")\n",
    "plt.xlabel(\"Valeurs prédites\")\n",
    "plt.title(\"Matrice de confusion\")\n",
    "plt.show()"
   ]
  },
  {
   "cell_type": "markdown",
   "id": "98c5b727",
   "metadata": {},
   "source": [
    "#### Interpretations"
   ]
  },
  {
   "cell_type": "markdown",
   "id": "85ec5523",
   "metadata": {},
   "source": [
    "Le modèle a correctement classé environ 78% de l'échantillon. C'est un bon score mais moins performant que le Random Forest et légèrement moins que le Bagging.\n",
    "\n",
    "Le recall est de 83% pour la classe 1 et de 71% pour la classe 2 : ce qui est correct mais moins bon que ceux du Random Forest\n",
    "\n",
    "En comparaison, le modèle Random Forest semblait avoir de meilleures performances. Cependant, il est important de considérer le choix des hyperparamètres qui peut jouer sur la performance."
   ]
  },
  {
   "cell_type": "markdown",
   "id": "b0e2c813",
   "metadata": {},
   "source": [
    "## Conclusion sur le choix du modèle"
   ]
  },
  {
   "cell_type": "markdown",
   "id": "218129dd",
   "metadata": {},
   "source": [
    "Le modèle du Random Forest semble être le plus approprié, compte tenu de tout ce qui a été dit plus haut.\n",
    "\n",
    "On aurait pu monter encore plus haut en performance avec du Deep Learning, mais on aurait perdu grandement en interpretabilité et la structure de nos données ne nécéssite pas un tel niveau de complexité."
   ]
  },
  {
   "cell_type": "markdown",
   "id": "7756bbc5",
   "metadata": {},
   "source": [
    "# Question 2: Prédictions avec nouvelles variables"
   ]
  },
  {
   "cell_type": "markdown",
   "id": "5dabc51e",
   "metadata": {},
   "source": [
    "### Chargement de nouvelles données"
   ]
  },
  {
   "cell_type": "code",
   "execution_count": 26,
   "id": "55609582",
   "metadata": {},
   "outputs": [
    {
     "data": {
      "text/html": [
       "<div>\n",
       "<style scoped>\n",
       "    .dataframe tbody tr th:only-of-type {\n",
       "        vertical-align: middle;\n",
       "    }\n",
       "\n",
       "    .dataframe tbody tr th {\n",
       "        vertical-align: top;\n",
       "    }\n",
       "\n",
       "    .dataframe thead th {\n",
       "        text-align: right;\n",
       "    }\n",
       "</style>\n",
       "<table border=\"1\" class=\"dataframe\">\n",
       "  <thead>\n",
       "    <tr style=\"text-align: right;\">\n",
       "      <th></th>\n",
       "      <th>X1</th>\n",
       "      <th>X2</th>\n",
       "    </tr>\n",
       "  </thead>\n",
       "  <tbody>\n",
       "    <tr>\n",
       "      <th>0</th>\n",
       "      <td>1.533001</td>\n",
       "      <td>5.794728</td>\n",
       "    </tr>\n",
       "    <tr>\n",
       "      <th>1</th>\n",
       "      <td>5.423978</td>\n",
       "      <td>-1.849424</td>\n",
       "    </tr>\n",
       "    <tr>\n",
       "      <th>2</th>\n",
       "      <td>-5.107845</td>\n",
       "      <td>-1.687702</td>\n",
       "    </tr>\n",
       "    <tr>\n",
       "      <th>3</th>\n",
       "      <td>0.862346</td>\n",
       "      <td>-2.969889</td>\n",
       "    </tr>\n",
       "    <tr>\n",
       "      <th>4</th>\n",
       "      <td>-0.807342</td>\n",
       "      <td>8.193683</td>\n",
       "    </tr>\n",
       "  </tbody>\n",
       "</table>\n",
       "</div>"
      ],
      "text/plain": [
       "         X1        X2\n",
       "0  1.533001  5.794728\n",
       "1  5.423978 -1.849424\n",
       "2 -5.107845 -1.687702\n",
       "3  0.862346 -2.969889\n",
       "4 -0.807342  8.193683"
      ]
     },
     "execution_count": 26,
     "metadata": {},
     "output_type": "execute_result"
    }
   ],
   "source": [
    "df_xsimu = pd.read_csv(\"xsimutest.txt\",sep=\" \")\n",
    "df_xsimu.head()"
   ]
  },
  {
   "cell_type": "markdown",
   "id": "c294d578",
   "metadata": {},
   "source": [
    "### Data exploration"
   ]
  },
  {
   "cell_type": "code",
   "execution_count": 27,
   "id": "fb863c9f",
   "metadata": {},
   "outputs": [
    {
     "name": "stdout",
     "output_type": "stream",
     "text": [
      "<class 'pandas.core.frame.DataFrame'>\n",
      "RangeIndex: 1000 entries, 0 to 999\n",
      "Data columns (total 2 columns):\n",
      " #   Column  Non-Null Count  Dtype  \n",
      "---  ------  --------------  -----  \n",
      " 0   X1      1000 non-null   float64\n",
      " 1   X2      1000 non-null   float64\n",
      "dtypes: float64(2)\n",
      "memory usage: 15.8 KB\n",
      "X1    0\n",
      "X2    0\n",
      "dtype: int64\n"
     ]
    },
    {
     "data": {
      "text/html": [
       "<div>\n",
       "<style scoped>\n",
       "    .dataframe tbody tr th:only-of-type {\n",
       "        vertical-align: middle;\n",
       "    }\n",
       "\n",
       "    .dataframe tbody tr th {\n",
       "        vertical-align: top;\n",
       "    }\n",
       "\n",
       "    .dataframe thead th {\n",
       "        text-align: right;\n",
       "    }\n",
       "</style>\n",
       "<table border=\"1\" class=\"dataframe\">\n",
       "  <thead>\n",
       "    <tr style=\"text-align: right;\">\n",
       "      <th></th>\n",
       "      <th>X1</th>\n",
       "      <th>X2</th>\n",
       "    </tr>\n",
       "  </thead>\n",
       "  <tbody>\n",
       "    <tr>\n",
       "      <th>count</th>\n",
       "      <td>1000.000000</td>\n",
       "      <td>1000.000000</td>\n",
       "    </tr>\n",
       "    <tr>\n",
       "      <th>mean</th>\n",
       "      <td>0.059809</td>\n",
       "      <td>-0.143525</td>\n",
       "    </tr>\n",
       "    <tr>\n",
       "      <th>std</th>\n",
       "      <td>3.133790</td>\n",
       "      <td>2.947674</td>\n",
       "    </tr>\n",
       "    <tr>\n",
       "      <th>min</th>\n",
       "      <td>-10.402470</td>\n",
       "      <td>-10.206071</td>\n",
       "    </tr>\n",
       "    <tr>\n",
       "      <th>25%</th>\n",
       "      <td>-2.098294</td>\n",
       "      <td>-2.132507</td>\n",
       "    </tr>\n",
       "    <tr>\n",
       "      <th>50%</th>\n",
       "      <td>0.020087</td>\n",
       "      <td>-0.263866</td>\n",
       "    </tr>\n",
       "    <tr>\n",
       "      <th>75%</th>\n",
       "      <td>2.182233</td>\n",
       "      <td>1.861905</td>\n",
       "    </tr>\n",
       "    <tr>\n",
       "      <th>max</th>\n",
       "      <td>11.543303</td>\n",
       "      <td>9.202502</td>\n",
       "    </tr>\n",
       "  </tbody>\n",
       "</table>\n",
       "</div>"
      ],
      "text/plain": [
       "                X1           X2\n",
       "count  1000.000000  1000.000000\n",
       "mean      0.059809    -0.143525\n",
       "std       3.133790     2.947674\n",
       "min     -10.402470   -10.206071\n",
       "25%      -2.098294    -2.132507\n",
       "50%       0.020087    -0.263866\n",
       "75%       2.182233     1.861905\n",
       "max      11.543303     9.202502"
      ]
     },
     "metadata": {},
     "output_type": "display_data"
    }
   ],
   "source": [
    "# Informations sur la base de données\n",
    "df_xsimu.info()\n",
    "# Vérifier les valeurs nulles dans le DataFrame\n",
    "print(df_xsimu.isna().sum())\n",
    "# Statistiques descriptives\n",
    "display(df_xsimu.describe())"
   ]
  },
  {
   "cell_type": "code",
   "execution_count": 28,
   "id": "2e932e20",
   "metadata": {},
   "outputs": [],
   "source": [
    "# Prédictions sur les valeurs du nouvel ensemble\n",
    "y_predx = model4.predict(df_xsimu)"
   ]
  },
  {
   "cell_type": "markdown",
   "id": "ac9db118",
   "metadata": {},
   "source": [
    "### Enregistrement du vecteur des prédictions sous format .txt"
   ]
  },
  {
   "cell_type": "code",
   "execution_count": 29,
   "id": "6a61b6d1",
   "metadata": {},
   "outputs": [],
   "source": [
    "predictions = pd.DataFrame(y_predx)\n",
    "predictions.to_csv('predictions.txt', index=False, header=False, sep='\\n')  # Le séparateur est le retour chariot '\\n'"
   ]
  }
 ],
 "metadata": {
  "kernelspec": {
   "display_name": "Python 3 (ipykernel)",
   "language": "python",
   "name": "python3"
  },
  "language_info": {
   "codemirror_mode": {
    "name": "ipython",
    "version": 3
   },
   "file_extension": ".py",
   "mimetype": "text/x-python",
   "name": "python",
   "nbconvert_exporter": "python",
   "pygments_lexer": "ipython3",
   "version": "3.9.7"
  }
 },
 "nbformat": 4,
 "nbformat_minor": 5
}
